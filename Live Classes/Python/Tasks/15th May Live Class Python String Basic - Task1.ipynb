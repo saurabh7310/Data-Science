{
 "cells": [
  {
   "cell_type": "markdown",
   "id": "28fa7ec8",
   "metadata": {},
   "source": [
    "# 15th May Live Class Python String Basic - Task1\n",
    "    \n",
    "    s = \"this is My First Python programming class and i am learning python string and its function\"\n",
    "    \n",
    "    1. Try to extract data from index one to index 300 with a jump of 3.\n",
    "    2. Try to reverse a string without using reverse function.\n",
    "    3. Try to split a string after conversion of entire string in uppercase.\n",
    "    4. Try to convert the whole string into lower case.\n",
    "    5. Try to capitalize the whole string.\n",
    "    6. Write a difference between isalnum() and isalpha().\n",
    "    7. Try to give an example of expandtab.\n",
    "    8. Give and example of strip, lstrip and rstrip.\n",
    "    9. Replace a string charecter by another charector by taking your own example.\n",
    "    10. Try to give a defination of string center function with an example.\n",
    "    11. Write your own definition of compiler and interpretor without copy paste from internet in your language.\n",
    "    12. Python is a interpreted or compiled language give a clear and with your understanding.\n",
    "    13. Try to write a usecase of python with your inderstanding."
   ]
  },
  {
   "cell_type": "markdown",
   "id": "25496d4d",
   "metadata": {},
   "source": [
    "### 1. Try to extract data from index one to index 300 with a jump of 3"
   ]
  },
  {
   "cell_type": "code",
   "execution_count": 16,
   "id": "e957dda9",
   "metadata": {},
   "outputs": [
    {
     "name": "stdout",
     "output_type": "stream",
     "text": [
      "hiyrPoranl  manynr   cntg ofi uraf etttt osltdroups a crnrweoh iistib, ghoc\n"
     ]
    }
   ],
   "source": [
    "s = \"this is My First Python programming class and i am learning python string and its function. String is a long flexible structure made from fibers twisted together into a single strand, or from multiple such strands which are in turn twisted together. String is used to tie, bind, or hang other objects. It is also used as a material to make things, such as textiles, and in arts and crafts. String is a simple tool, and its use by humans is known to have been developed tens of thousands of years ago.\"\n",
    "print(s[1:300:4])"
   ]
  },
  {
   "cell_type": "markdown",
   "id": "7043d162",
   "metadata": {},
   "source": [
    "### 2. Try to reverse a string without using reverse function"
   ]
  },
  {
   "cell_type": "code",
   "execution_count": 18,
   "id": "04ccfa84",
   "metadata": {},
   "outputs": [
    {
     "name": "stdout",
     "output_type": "stream",
     "text": [
      "noitcnuf sti dna gnirts nohtyp gninrael ma i dna ssalc gnimmargorp nohtyP tsriF yM si siht\n"
     ]
    }
   ],
   "source": [
    "s = \"this is My First Python programming class and i am learning python string and its function\"\n",
    "print(s[::-1])"
   ]
  },
  {
   "cell_type": "markdown",
   "id": "386d3807",
   "metadata": {},
   "source": [
    "### 3. Try to split a string after conversion of entire string in uppercase"
   ]
  },
  {
   "cell_type": "code",
   "execution_count": 20,
   "id": "a1042132",
   "metadata": {},
   "outputs": [
    {
     "name": "stdout",
     "output_type": "stream",
     "text": [
      "THIS IS MY FIRST PYTHON PROGRAMMING CLASS AND I AM LEARNING PYTHON STRING AND ITS FUNCTION\n"
     ]
    }
   ],
   "source": [
    "s = \"this is My First Python programming class and i am learning python string and its function\"\n",
    "print(s.upper())"
   ]
  },
  {
   "cell_type": "markdown",
   "id": "f1012816",
   "metadata": {},
   "source": [
    "### 4. Try to convert the whole string into lower case"
   ]
  },
  {
   "cell_type": "code",
   "execution_count": 22,
   "id": "c4d1b6d8",
   "metadata": {},
   "outputs": [
    {
     "name": "stdout",
     "output_type": "stream",
     "text": [
      "THIS IS MY FIRST PYTHON PROGRAMMING CLASS AND I AM LEARNING PYTHON STRING AND ITS FUNCTION\n",
      "this is my first python programming class and i am learning python string and its function\n"
     ]
    }
   ],
   "source": [
    "s = \"this is My First Python programming class and i am learning python string and its function\"\n",
    "S = s.upper()\n",
    "print(S)\n",
    "print(S.lower())"
   ]
  },
  {
   "cell_type": "markdown",
   "id": "db061ffb",
   "metadata": {},
   "source": [
    "### 5. Try to capitalize the whole string"
   ]
  },
  {
   "cell_type": "code",
   "execution_count": 23,
   "id": "9a06c3ef",
   "metadata": {},
   "outputs": [
    {
     "name": "stdout",
     "output_type": "stream",
     "text": [
      "This is my first python programming class and i am learning python string and its function\n"
     ]
    }
   ],
   "source": [
    "s = \"this is My First Python programming class and i am learning python string and its function\"\n",
    "print(s.capitalize())"
   ]
  },
  {
   "cell_type": "markdown",
   "id": "8f8dbccc",
   "metadata": {},
   "source": [
    "### 6. Write a difference between isalnum() and isalpha()"
   ]
  },
  {
   "cell_type": "markdown",
   "id": "f707afa6",
   "metadata": {},
   "source": [
    "Ans -\n",
    "isalnum() checks the whole string and tells that string is alphanumeric or not. If string is alphanumeric then returns true.\n",
    "isalpha() checks the whole string and tells that whole string contains letter or not. If string only contains letter it returns true."
   ]
  },
  {
   "cell_type": "markdown",
   "id": "48c43f0b",
   "metadata": {},
   "source": [
    "### 7. Try to give an example of expandtab"
   ]
  },
  {
   "cell_type": "markdown",
   "id": "fad1d91e",
   "metadata": {},
   "source": [
    "Ans - \n",
    "The expandtabs() method sets the tab size to the specified number of whitespaces.\n",
    "\n",
    "#### Example :"
   ]
  },
  {
   "cell_type": "code",
   "execution_count": 27,
   "id": "a5becd35",
   "metadata": {},
   "outputs": [
    {
     "name": "stdout",
     "output_type": "stream",
     "text": [
      "Name    Gender  Age     Phone   Address\n",
      "Name     Gender   Age      Phone    Address\n"
     ]
    }
   ],
   "source": [
    "person = \"Name\\tGender\\tAge\\tPhone\\tAddress\"\n",
    "print(person.expandtabs()) \n",
    "print(person.expandtabs(9))  # Into the parenthesis we can give the size tabs"
   ]
  },
  {
   "cell_type": "markdown",
   "id": "8fd4e99d",
   "metadata": {},
   "source": [
    "### 8. Give and example of strip, lstrip and rstrip"
   ]
  },
  {
   "cell_type": "markdown",
   "id": "35ca1608",
   "metadata": {},
   "source": [
    "Ans - \n",
    "    \n",
    "    1. strip() - This method is used to delete all the leading and trailing characters mentioned in its argument.\n",
    "    2. lstrip() - This method is used to delete (from left side only) all the leading and trailing characters metioned in its             argument.\n",
    "    3. rstrip() - This method is used to delete (from right side only) all the leading and trailing characters metioned in its             argument.\n",
    "    \n",
    "#### Example :"
   ]
  },
  {
   "cell_type": "code",
   "execution_count": 34,
   "id": "ec71e923",
   "metadata": {},
   "outputs": [
    {
     "name": "stdout",
     "output_type": "stream",
     "text": [
      "After using strip ($) sign removed :  iNeuron\n",
      "\n",
      "After using lstrip ($) sign removed from left side only :  iNeuron$$$$$\n",
      "\n",
      "After using rstrip ($) sign removed from left side only :  $$$$$iNeuron\n"
     ]
    }
   ],
   "source": [
    "Company = \"$$$$$iNeuron$$$$$\"\n",
    "\n",
    "# Using strip to delete all ($) from the string.\n",
    "print(\"After using strip ($) sign removed : \", Company.strip('$'), end=\"\\n\\n\")\n",
    "\n",
    "# Using lstrip to delete all ($) only from left side of string.\n",
    "print(\"After using lstrip ($) sign removed from left side only : \", Company.lstrip('$'), end=\"\\n\\n\")\n",
    "\n",
    "# Using rstrip to delete all ($) only form right side of string.\n",
    "print(\"After using rstrip ($) sign removed from left side only : \", Company.rstrip('$'))"
   ]
  },
  {
   "cell_type": "markdown",
   "id": "06571708",
   "metadata": {},
   "source": [
    "### 9. Replace a string charecter by another charector by taking your own example"
   ]
  },
  {
   "cell_type": "code",
   "execution_count": 35,
   "id": "b79f437e",
   "metadata": {},
   "outputs": [
    {
     "name": "stdout",
     "output_type": "stream",
     "text": [
      "Lucknow\n"
     ]
    }
   ],
   "source": [
    "name = \"Wucknow\"\n",
    "\n",
    "print(name.replace('W', 'L'))"
   ]
  },
  {
   "cell_type": "markdown",
   "id": "61f626d0",
   "metadata": {},
   "source": [
    "### 10. Try to give a defination of string center function with an example"
   ]
  },
  {
   "cell_type": "markdown",
   "id": "24aa647d",
   "metadata": {},
   "source": [
    "Ans - \n",
    "\n",
    "The center() method will center align the string, using a specified character (space is default) as the fill character."
   ]
  },
  {
   "cell_type": "code",
   "execution_count": 38,
   "id": "507e6f49",
   "metadata": {},
   "outputs": [
    {
     "name": "stdout",
     "output_type": "stream",
     "text": [
      "Saurabh Sharma\n",
      "                  Saurabh Sharma                  \n"
     ]
    }
   ],
   "source": [
    "name = \"Saurabh Sharma\"\n",
    "print(name)\n",
    "print(name.center(50)) # Using of center fuction"
   ]
  },
  {
   "cell_type": "markdown",
   "id": "73d70099",
   "metadata": {},
   "source": [
    "### 11. Write your own definition of compiler and interpretor without copy paste from internet in your language"
   ]
  },
  {
   "cell_type": "markdown",
   "id": "99372b7f",
   "metadata": {},
   "source": [
    "Ans - \n",
    "We write a computer program in high level languages. But computer can not understand it, because computer only understand in 0's and 1's. So converting a program in 0's and 1's we use either compier and interpreter.\n",
    "\n",
    "Compiler and iterpreter are used to convert a program written in high level language into machine code understood by computer.\n",
    "\n",
    "    There are some difference between compiler and interpreter.\n",
    "    \n",
    "Interpreter :\n",
    "\n",
    "            - It translates the program line by line.\n",
    "            - It takes usually less amout of time to analyze the source code. But overall execution time is comparatively                     slower than compiler.\n",
    "            - No object code is generated, hence are memory efficient.\n",
    "            - Programming languages like JavaScript, Python, Ruby are use interpreters.\n",
    "            \n",
    "Compiler : \n",
    "    \n",
    "            - It scans and translates whole program into machine code.\n",
    "            - Compilers usually takes a large ammount of time to analyze the source code. But overall execution time is faster \n",
    "              than the interpreter.\n",
    "            - Genrates Object Code which further requires linking, hence requires more memory.\n",
    "            - Programming languages like C, C++, Java use compilers."
   ]
  },
  {
   "cell_type": "markdown",
   "id": "f03fefed",
   "metadata": {},
   "source": [
    "### 12. Python is a interpreted or compiled language give a clear and with your understanding"
   ]
  },
  {
   "cell_type": "markdown",
   "id": "280a3d69",
   "metadata": {},
   "source": [
    "Ans - \n",
    "\n",
    "Python is an interpreted language, which means the source code of python program is converted into bytecode then executed by the Python virtual machine. Python is different from major compiled languages, such as C and C++, as Python code is not required to be built and linked like code for these languages."
   ]
  },
  {
   "cell_type": "markdown",
   "id": "35050c55",
   "metadata": {},
   "source": [
    "### 13. Try to write a usecase of python with your inderstanding"
   ]
  },
  {
   "cell_type": "markdown",
   "id": "2fde776d",
   "metadata": {},
   "source": [
    "Ans - \n",
    "\n",
    "Python has grown to be one of the most loved programming lagauge.According to StackOverflow's 2020 developers survey. Python ranks as one of the most widely used programming languages even above Java.\n",
    "\n",
    "    Top 10 popular apps that uses Python\n",
    "    \n",
    "    Apps                   Traffic\n",
    "    \n",
    "    Google                 89 B\n",
    "    Instagram              6.5 B\n",
    "    Spotify                385 B\n",
    "    Pinterest              1 B\n",
    "    Uber                   1 B\n",
    "    Netflix                2.5\n",
    "    Reddit                 1.7 B\n",
    "    Dropbox                178 M\n",
    "    Instacart              28 M\n",
    "    Disqus                 35 M\n",
    "    \n",
    "Top 10 Use Cases of Python\n",
    "\n",
    "    - Web Applications\n",
    "    - Data Science Implementations\n",
    "    - Artificial Intelligence\n",
    "    - Game Development\n",
    "    - Internet of Things\n",
    "    - Web Scraping Applications\n",
    "    - Desktop GUI Applications\n",
    "    - Enterprise Applications\n",
    "    - Image Recognition and Text processing\n",
    "    - API benifits\n",
    "    - Education Sector\n",
    "    - The Bottom Line"
   ]
  }
 ],
 "metadata": {
  "kernelspec": {
   "display_name": "Python 3 (ipykernel)",
   "language": "python",
   "name": "python3"
  },
  "language_info": {
   "codemirror_mode": {
    "name": "ipython",
    "version": 3
   },
   "file_extension": ".py",
   "mimetype": "text/x-python",
   "name": "python",
   "nbconvert_exporter": "python",
   "pygments_lexer": "ipython3",
   "version": "3.9.12"
  }
 },
 "nbformat": 4,
 "nbformat_minor": 5
}
