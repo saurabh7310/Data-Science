{
 "cells": [
  {
   "cell_type": "markdown",
   "id": "8cee5c19",
   "metadata": {},
   "source": [
    "# Assignment 09"
   ]
  },
  {
   "cell_type": "markdown",
   "id": "e7409be2",
   "metadata": {},
   "source": [
    "## Q1 - To what does a relative path refer?\n",
    "Ans- A relative path is a way to specify the location of a directory relative to another directory."
   ]
  },
  {
   "cell_type": "markdown",
   "id": "fd290076",
   "metadata": {},
   "source": [
    "## Q2 - What does an absolute path start with your operating system?\n",
    "Ans- An absolute path is defined as the specifying the location of a file or directory from the root directory(/). In other words we can say absolute path is a complete path from start of actual filesystem from / directory."
   ]
  },
  {
   "cell_type": "markdown",
   "id": "70a16b8b",
   "metadata": {},
   "source": [
    "## Q3 - What do the functions os.getcwd() and os.chdir() do?\n",
    "Ans- getcwd() : CWD stands for Current Working Directory. This function allows you to see what your current working directory is. chdir(\"path-to-dir\") : Short for CHange DIRectory, this function allows you to set the current working directory to a path of your choice."
   ]
  },
  {
   "cell_type": "markdown",
   "id": "bfb98346",
   "metadata": {},
   "source": [
    "## Q4 - What are the . and .. folders?\n",
    "Ans- '. ' represents the current directory. While '..' represents the parent directory."
   ]
  },
  {
   "cell_type": "markdown",
   "id": "1f0f181b",
   "metadata": {},
   "source": [
    "## Q5 - In C:\\bacon\\eggs\\spam.txt, which part is the dir name, and which part is the base name?\n",
    "Ans- C:\\bacon\\eggs is the dir name, while spam. txt is the base name."
   ]
  },
  {
   "cell_type": "markdown",
   "id": "0e7ab4b9",
   "metadata": {},
   "source": [
    "## Q6 - What are the three “mode” arguments that can be passed to the open() function?\n",
    "Ans- The open() is used to return a file in either the read or the write mode. The user uses the open() function with two arguments: the file name and the mode (read or write) to return a file object. Different modes are available for this are: “ r “, for reading the file."
   ]
  },
  {
   "cell_type": "markdown",
   "id": "8071a353",
   "metadata": {},
   "source": [
    "## Q7 - What happens if an existing file is opened in write mode?\n",
    "Ans- To open a file in write mode, “w” is specified. When mode “w” is specified, it creates an empty file for output operations. What if the file already exists? If a file with the same name already exists, its contents are discarded and the file is treated as a new empty file."
   ]
  },
  {
   "cell_type": "markdown",
   "id": "cfcab828",
   "metadata": {},
   "source": [
    "## Q8 - How do you tell the difference between read() and readlines()?\n",
    "Ans- The read() will read the whole file at once and then print out the first characters that take up as many bytes as you specify in the parenthesis versus the readline() that will read and print out only the first characters that take up as many bytes as you specify in the parenthesis."
   ]
  },
  {
   "cell_type": "markdown",
   "id": "8de1cbb4",
   "metadata": {},
   "source": [
    "## Q9 - What data structure does a shelf value resemble?\n",
    "Ans- A shelf value resembles a dictionary value; it has keys and values, along with keys() and values() methods that work similarly to the dictionary methods of the same names."
   ]
  }
 ],
 "metadata": {
  "kernelspec": {
   "display_name": "Python 3 (ipykernel)",
   "language": "python",
   "name": "python3"
  },
  "language_info": {
   "codemirror_mode": {
    "name": "ipython",
    "version": 3
   },
   "file_extension": ".py",
   "mimetype": "text/x-python",
   "name": "python",
   "nbconvert_exporter": "python",
   "pygments_lexer": "ipython3",
   "version": "3.9.13"
  }
 },
 "nbformat": 4,
 "nbformat_minor": 5
}
