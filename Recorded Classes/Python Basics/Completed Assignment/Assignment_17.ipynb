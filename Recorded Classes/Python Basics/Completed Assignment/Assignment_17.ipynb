{
 "cells": [
  {
   "cell_type": "markdown",
   "id": "3b5eb6fc",
   "metadata": {},
   "source": [
    "# Assignment 17"
   ]
  },
  {
   "cell_type": "markdown",
   "id": "09892910",
   "metadata": {},
   "source": [
    "## 1. Assign the value 7 to the variable guess_me. Then, write the conditional tests (if, else, and elif) to print the string &#39;too low&#39; if guess_me is less than 7, &#39;too high&#39; if greater than 7, and &#39;just right&#39; if equal to 7.\n",
    "Ans-"
   ]
  },
  {
   "cell_type": "code",
   "execution_count": 5,
   "id": "e0e9fa3e",
   "metadata": {},
   "outputs": [
    {
     "name": "stdout",
     "output_type": "stream",
     "text": [
      "just right\n"
     ]
    }
   ],
   "source": [
    "guess_me = 7\n",
    "\n",
    "if (guess_me < 7):\n",
    "    print(\"too low\")\n",
    "elif (guess_me > 7):\n",
    "    print(\"too high\")\n",
    "else:\n",
    "    print(\"just right\")"
   ]
  },
  {
   "cell_type": "markdown",
   "id": "6a7a3094",
   "metadata": {},
   "source": [
    "## 2. Assign the value 7 to the variable guess_me and the value 1 to the variable start. Write a while loop that compares start with guess_me. Print too low if start is less than guess me. If start equals guess_me, print &#39;found it!&#39; and exit the loop. If start is greater than guess_me, print &#39;oops&#39; and exit the loop. Increment start at the end of the loop.\n",
    "Ans-"
   ]
  },
  {
   "cell_type": "code",
   "execution_count": 6,
   "id": "ec73e3ab",
   "metadata": {},
   "outputs": [
    {
     "name": "stdout",
     "output_type": "stream",
     "text": [
      "too low\n",
      "too low\n",
      "too low\n",
      "too low\n",
      "too low\n",
      "too low\n",
      "found it!\n"
     ]
    }
   ],
   "source": [
    "guess_me = 7\n",
    "start = 1\n",
    "\n",
    "while True:\n",
    "    if start < guess_me:\n",
    "        print('too low')\n",
    "    elif start == guess_me:\n",
    "        print('found it!')\n",
    "        break\n",
    "    else:\n",
    "        print('oops')\n",
    "        break\n",
    "    start += 1"
   ]
  },
  {
   "cell_type": "markdown",
   "id": "142daf83",
   "metadata": {},
   "source": [
    "## 3. Print the following values of the list [3, 2, 1, 0] using a for loop.\n",
    "Ans-"
   ]
  },
  {
   "cell_type": "code",
   "execution_count": 10,
   "id": "ec575f03",
   "metadata": {},
   "outputs": [
    {
     "name": "stdout",
     "output_type": "stream",
     "text": [
      "3\n",
      "2\n",
      "1\n",
      "0\n"
     ]
    }
   ],
   "source": [
    "list = [3, 2, 1, 0]\n",
    "\n",
    "for values in list:\n",
    "    print(values)\n",
    "\n"
   ]
  },
  {
   "cell_type": "markdown",
   "id": "a9cb098a",
   "metadata": {},
   "source": [
    "## 4. Use a list comprehension to make a list of the even numbers in range(10)\n",
    "Ans-"
   ]
  },
  {
   "cell_type": "code",
   "execution_count": 13,
   "id": "2dacd936",
   "metadata": {},
   "outputs": [
    {
     "name": "stdout",
     "output_type": "stream",
     "text": [
      "[0, 2, 4, 6, 8]\n"
     ]
    }
   ],
   "source": [
    "even_list = [i for i in range(10) if i%2==0]\n",
    "print(even_list)"
   ]
  },
  {
   "cell_type": "markdown",
   "id": "0e2f8ed7",
   "metadata": {},
   "source": [
    "## 5. Use a dictionary comprehension to create the dictionary squares. Use range(10) to return the keys, and use the square of each key as its value.\n",
    "Ans-"
   ]
  },
  {
   "cell_type": "code",
   "execution_count": 14,
   "id": "77246b8c",
   "metadata": {},
   "outputs": [
    {
     "name": "stdout",
     "output_type": "stream",
     "text": [
      "{1, 3, 5, 7, 9}\n"
     ]
    }
   ],
   "source": [
    "odd_dict = {i for i in range(10) if i%2 != 0}\n",
    "print(odd_dict)"
   ]
  },
  {
   "cell_type": "markdown",
   "id": "45f049ff",
   "metadata": {},
   "source": [
    "## 6. Construct the set odd from the odd numbers in the range using a set comprehension (10).\n",
    "Ans-"
   ]
  },
  {
   "cell_type": "code",
   "execution_count": 16,
   "id": "cf795f46",
   "metadata": {},
   "outputs": [
    {
     "name": "stdout",
     "output_type": "stream",
     "text": [
      "{1, 3, 5, 7, 9}\n"
     ]
    }
   ],
   "source": [
    "odd = {i for i in range(10) if i%2 != 0}\n",
    "print(odd)"
   ]
  },
  {
   "cell_type": "markdown",
   "id": "4113dba0",
   "metadata": {},
   "source": [
    "## 7. Use a generator comprehension to return the string &#39;Got &#39; and a number for the numbers in range(10). Iterate through this by using a for loop.\n",
    "Ans-"
   ]
  },
  {
   "cell_type": "code",
   "execution_count": 20,
   "id": "2c154291",
   "metadata": {},
   "outputs": [
    {
     "name": "stdout",
     "output_type": "stream",
     "text": [
      "got 0\n",
      "got 1\n",
      "got 2\n",
      "got 3\n",
      "got 4\n",
      "got 5\n",
      "got 6\n",
      "got 7\n",
      "got 8\n",
      "got 9\n"
     ]
    }
   ],
   "source": [
    "string_gen = ('got ' + str(num) for num in range(10))\n",
    "\n",
    "for ele in string_gen:\n",
    "    print(ele)"
   ]
  },
  {
   "cell_type": "markdown",
   "id": "a26a7547",
   "metadata": {},
   "source": [
    "## 8. Define a function called good that returns the list [&#39;Harry&#39;, &#39;Ron&#39;, &#39;Hermione&#39;].\n",
    "Ans-"
   ]
  },
  {
   "cell_type": "code",
   "execution_count": 21,
   "id": "6081bf0c",
   "metadata": {},
   "outputs": [
    {
     "data": {
      "text/plain": [
       "['Harry', 'Ron', 'Hermione']"
      ]
     },
     "execution_count": 21,
     "metadata": {},
     "output_type": "execute_result"
    }
   ],
   "source": [
    "def good():\n",
    "    list = ['Harry', 'Ron', 'Hermione']\n",
    "    return list\n",
    "\n",
    "good()"
   ]
  },
  {
   "cell_type": "markdown",
   "id": "e641e126",
   "metadata": {},
   "source": [
    "## 9. Define a generator function called get_odds that returns the odd numbers from range(10). Use a for loop to find and print the third value returned.\n",
    "Ans-"
   ]
  },
  {
   "cell_type": "code",
   "execution_count": 24,
   "id": "82ca7654",
   "metadata": {},
   "outputs": [
    {
     "name": "stdout",
     "output_type": "stream",
     "text": [
      "The third odd number is 5\n"
     ]
    }
   ],
   "source": [
    "def get_odds():\n",
    "    for number in range(1, 10, 2):\n",
    "         yield number\n",
    "count = 1\n",
    "for number in get_odds():\n",
    "    if count == 3:\n",
    "        print(\"The third odd number is\", number)\n",
    "        break\n",
    "    count += 1"
   ]
  },
  {
   "cell_type": "markdown",
   "id": "06cf764a",
   "metadata": {},
   "source": [
    "## 10. Define an exception called OopsException. Raise this exception to see what happens. Then write the code to catch this exception and print &#39;Caught an oops&#39;.\n",
    "Ans-"
   ]
  },
  {
   "cell_type": "code",
   "execution_count": 25,
   "id": "e8e51531",
   "metadata": {},
   "outputs": [
    {
     "name": "stdout",
     "output_type": "stream",
     "text": [
      "Caught an oops\n"
     ]
    }
   ],
   "source": [
    "class OopsException(Exception):\n",
    "    pass\n",
    "\n",
    "def raiseException(num):\n",
    "    if num < 0:\n",
    "        raise OopsException(num)\n",
    "\n",
    "try:\n",
    "    raiseException(-1)\n",
    "except OopsException as err:\n",
    "    print('Caught an oops')"
   ]
  },
  {
   "cell_type": "markdown",
   "id": "04f3a734",
   "metadata": {},
   "source": [
    "## 11. Use zip() to make a dictionary called movies that pairs these lists: titles = [&#39;Creature of Habit&#39;, &#39;Crewel Fate&#39;] and plots = [&#39;A nun turns into a monster&#39;, &#39;A haunted yarn shop&#39;].\n",
    "Ans-"
   ]
  },
  {
   "cell_type": "code",
   "execution_count": 26,
   "id": "2bf3f530",
   "metadata": {},
   "outputs": [
    {
     "name": "stdout",
     "output_type": "stream",
     "text": [
      "{'Creature of Habit': 'A nun turns into a monster', 'Crewel Fate': 'A haunted yarn shop'}\n"
     ]
    }
   ],
   "source": [
    "titles = ['Creature of Habit', 'Crewel Fate']\n",
    "plots = ['A nun turns into a monster', 'A haunted yarn shop']\n",
    "movies = dict(zip(titles, plots))\n",
    "print(movies)"
   ]
  }
 ],
 "metadata": {
  "kernelspec": {
   "display_name": "Python 3 (ipykernel)",
   "language": "python",
   "name": "python3"
  },
  "language_info": {
   "codemirror_mode": {
    "name": "ipython",
    "version": 3
   },
   "file_extension": ".py",
   "mimetype": "text/x-python",
   "name": "python",
   "nbconvert_exporter": "python",
   "pygments_lexer": "ipython3",
   "version": "3.9.13"
  }
 },
 "nbformat": 4,
 "nbformat_minor": 5
}
