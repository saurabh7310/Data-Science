{
 "cells": [
  {
   "cell_type": "markdown",
   "id": "0064bfd7-77e4-4b84-abfa-d2cc69f43440",
   "metadata": {},
   "source": [
    "# Assignment 05"
   ]
  },
  {
   "cell_type": "markdown",
   "id": "a708e2c1-db2e-450f-ad35-674edb3786ff",
   "metadata": {},
   "source": [
    "## 1. What does an Empty Dictionary Code looks like?"
   ]
  },
  {
   "cell_type": "code",
   "execution_count": 17,
   "id": "3741c922-053a-4434-b20b-eeef4eca91d2",
   "metadata": {},
   "outputs": [
    {
     "name": "stdout",
     "output_type": "stream",
     "text": [
      "This is my Empty Dictionary:  {}\n",
      "Length of dictionary:  0\n",
      "Dictionary is Empty\n"
     ]
    }
   ],
   "source": [
    "Empty_Dict = {}\n",
    "\n",
    "print(\"This is my Empty Dictionary: \",Empty_Dict)\n",
    "print(\"Length of dictionary: \",len(Empty_Dict))\n",
    "\n",
    "if (len(Empty_Dict) == 0):\n",
    "    print(\"Dictionary is Empty\")\n",
    "else:\n",
    "    print(\"Dictionary is Not-Empty\")"
   ]
  },
  {
   "cell_type": "markdown",
   "id": "4512d420-6f3b-4da9-8db3-e623b2915e4b",
   "metadata": {},
   "source": [
    "## 2. What is the value of a dictionary value with the key &#39;foo&#39; and the value 42?"
   ]
  },
  {
   "cell_type": "code",
   "execution_count": 31,
   "id": "4336944a-f018-40a0-8166-9541b0b02813",
   "metadata": {},
   "outputs": [
    {
     "name": "stdout",
     "output_type": "stream",
     "text": [
      "Value of the Key of 'foo': 42\n"
     ]
    }
   ],
   "source": [
    "dictionary = {'foo': 42}\n",
    "Dict_Value = dictionary.values()\n",
    "\n",
    "print(\"Value of the Key of 'foo':\", str(Dict_Value)[13:15])"
   ]
  },
  {
   "cell_type": "markdown",
   "id": "57c3b7e3-f3bd-4ca1-a819-fe9ad06392e9",
   "metadata": {},
   "source": [
    "## 3. What is the most significant distinction between a dictionary and a list?"
   ]
  },
  {
   "cell_type": "markdown",
   "id": "4e022b8a-412a-4e5d-b9cd-ac2d440efb42",
   "metadata": {},
   "source": [
    "Dictionary comes with key and value pair and list not.\n",
    "    "
   ]
  },
  {
   "cell_type": "markdown",
   "id": "ed173c9a-37a0-4c6d-8fd8-6200b6f40217",
   "metadata": {},
   "source": [
    "## 4. What happens if you try to access spam[&#39;foo&#39;] if spam is {&#39;bar&#39;: 100}?"
   ]
  },
  {
   "cell_type": "markdown",
   "id": "c668aa5c-a0d0-4868-a084-38d96bb0e1af",
   "metadata": {},
   "source": [
    "It will through an error because key foo does not exist in the dictionary spam."
   ]
  },
  {
   "cell_type": "code",
   "execution_count": 33,
   "id": "3f3c98d9-d724-43d2-a773-84eef02ce81e",
   "metadata": {},
   "outputs": [
    {
     "ename": "KeyError",
     "evalue": "'foo'",
     "output_type": "error",
     "traceback": [
      "\u001b[0;31m---------------------------------------------------------------------------\u001b[0m",
      "\u001b[0;31mKeyError\u001b[0m                                  Traceback (most recent call last)",
      "Cell \u001b[0;32mIn [33], line 3\u001b[0m\n\u001b[1;32m      1\u001b[0m spam \u001b[38;5;241m=\u001b[39m {\u001b[38;5;124m'\u001b[39m\u001b[38;5;124mbar\u001b[39m\u001b[38;5;124m'\u001b[39m: \u001b[38;5;241m100\u001b[39m}\n\u001b[0;32m----> 3\u001b[0m \u001b[38;5;28mprint\u001b[39m(\u001b[43mspam\u001b[49m\u001b[43m[\u001b[49m\u001b[38;5;124;43m'\u001b[39;49m\u001b[38;5;124;43mfoo\u001b[39;49m\u001b[38;5;124;43m'\u001b[39;49m\u001b[43m]\u001b[49m)\n",
      "\u001b[0;31mKeyError\u001b[0m: 'foo'"
     ]
    }
   ],
   "source": [
    "spam = {'bar': 100}\n",
    "\n",
    "print(spam['foo'])"
   ]
  },
  {
   "cell_type": "markdown",
   "id": "66047a83-ee7d-4087-8640-aa403d69ca4e",
   "metadata": {},
   "source": [
    "## 5. If a dictionary is stored in spam, what is the difference between the expressions &#39;cat&#39; in spam and &#39;cat&#39; in spam.keys()?"
   ]
  },
  {
   "cell_type": "markdown",
   "id": "ca1b6ac5-a349-4c02-8afc-f7ca962596dd",
   "metadata": {},
   "source": [
    "'cat' in spam will return the value of that key. But the 'cat' in spam.keys() will return only key that will ['cat']"
   ]
  },
  {
   "cell_type": "code",
   "execution_count": 36,
   "id": "a4821e94-3290-41d3-92b7-0a19cecc93d5",
   "metadata": {},
   "outputs": [
    {
     "name": "stdout",
     "output_type": "stream",
     "text": [
      "12\n",
      "dict_keys(['cat'])\n"
     ]
    }
   ],
   "source": [
    "spam = {'cat': 12}\n",
    "\n",
    "print(spam['cat'])\n",
    "print(spam.keys())"
   ]
  },
  {
   "cell_type": "markdown",
   "id": "251cbb74-cdd4-4b2f-9b5d-c56e41e829cd",
   "metadata": {},
   "source": [
    "## 6. If a dictionary is stored in spam, what is the difference between the expressions &#39;cat&#39; in spam and &#39;cat&#39; in spam.values()?"
   ]
  },
  {
   "cell_type": "markdown",
   "id": "fe12907b-227e-4c08-b42e-874e9785bb56",
   "metadata": {},
   "source": [
    "Both will remain same. Both will return the value regarding with that key 'cat' and value will be printed as 23."
   ]
  },
  {
   "cell_type": "code",
   "execution_count": 37,
   "id": "44f37150-04ce-4eb8-add3-690cee1c1589",
   "metadata": {},
   "outputs": [
    {
     "name": "stdout",
     "output_type": "stream",
     "text": [
      "23\n",
      "dict_values([23])\n"
     ]
    }
   ],
   "source": [
    "spam = {'cat': 23}\n",
    "\n",
    "print(spam['cat'])\n",
    "print(spam.values())"
   ]
  },
  {
   "cell_type": "markdown",
   "id": "40d863e4-c0a8-4abc-a5ed-4dc636f6929c",
   "metadata": {},
   "source": [
    "## 7. What is a shortcut for the following code?\n",
    "\n",
    "### if &#39;color&#39; not in spam:\n",
    "### spam[&#39;color&#39;] = &#39;black&#39;"
   ]
  },
  {
   "cell_type": "markdown",
   "id": "db501130-4dac-4064-9143-80510d96ab0a",
   "metadata": {},
   "source": [
    "Shortcut will be \n",
    "    \n",
    "    spam.setdefault('color', 'black')"
   ]
  },
  {
   "cell_type": "code",
   "execution_count": 41,
   "id": "e8538f14-a69f-4584-ab0c-88e4b2be884b",
   "metadata": {},
   "outputs": [
    {
     "name": "stdout",
     "output_type": "stream",
     "text": [
      "{'color': 'black'}\n",
      "black\n"
     ]
    }
   ],
   "source": [
    "spam = {'color' : 'black'}\n",
    "\n",
    "if 'color' not in spam:\n",
    "    spam['color'] = 'black'\n",
    "    \n",
    "print(spam)\n",
    "\n",
    "print(spam.setdefault('color', 'black'))"
   ]
  },
  {
   "cell_type": "markdown",
   "id": "16633c75-d798-40b9-8f49-49b68989a034",
   "metadata": {},
   "source": [
    "## 8. How do you &quot;pretty print&quot; dictionary values using which module and function?"
   ]
  },
  {
   "cell_type": "code",
   "execution_count": 47,
   "id": "e0034165-9973-45e7-a11d-e6b038426e97",
   "metadata": {},
   "outputs": [
    {
     "name": "stdout",
     "output_type": "stream",
     "text": [
      "{'age': 31,\n",
      " 'books': ['Harry Potter', 'Lord of the Rings'],\n",
      " 'gender': 'male',\n",
      " 'name': 'Nik'}\n"
     ]
    }
   ],
   "source": [
    "import pprint\n",
    "\n",
    "sample_dict = {'name': 'Nik', 'age': 31, 'gender': 'male', 'books': ['Harry Potter', 'Lord of the Rings']}\n",
    "pprint.pprint(sample_dict)"
   ]
  },
  {
   "cell_type": "code",
   "execution_count": null,
   "id": "33053272-8eab-4059-866a-c306cabc63b2",
   "metadata": {},
   "outputs": [],
   "source": []
  }
 ],
 "metadata": {
  "kernelspec": {
   "display_name": "Python 3 (ipykernel)",
   "language": "python",
   "name": "python3"
  },
  "language_info": {
   "codemirror_mode": {
    "name": "ipython",
    "version": 3
   },
   "file_extension": ".py",
   "mimetype": "text/x-python",
   "name": "python",
   "nbconvert_exporter": "python",
   "pygments_lexer": "ipython3",
   "version": "3.10.6"
  }
 },
 "nbformat": 4,
 "nbformat_minor": 5
}
