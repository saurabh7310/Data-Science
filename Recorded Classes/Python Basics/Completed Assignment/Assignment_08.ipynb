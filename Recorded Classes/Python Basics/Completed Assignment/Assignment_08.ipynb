{
 "cells": [
  {
   "cell_type": "markdown",
   "id": "e307053e",
   "metadata": {},
   "source": [
    "# Assignment 08"
   ]
  },
  {
   "cell_type": "markdown",
   "id": "b97da6e6",
   "metadata": {},
   "source": [
    "## Q1 - Is the Python Standard Library included with PyInputPlus?\n",
    "Ans - PyInputPlus is not a part of the Python Standard Library, we must install it separately using Pip."
   ]
  },
  {
   "cell_type": "markdown",
   "id": "600dabbf",
   "metadata": {},
   "source": [
    "## Q2 - Why is PyInputPlus commonly imported with import pyinputplus as pypi?\n",
    "Ans- You can import the module with import pyinputplus as pyip so that you can enter a shorter name when calling the module’s functions"
   ]
  },
  {
   "cell_type": "markdown",
   "id": "ac681276",
   "metadata": {},
   "source": [
    "## Q3 - How do you distinguish between inputInt() and inputFloat()?\n",
    "Ans- The difference is in the data-type when you use the first one the program expects an integer value as input but in the latter it expects a float value i.e number containing a decimal."
   ]
  },
  {
   "cell_type": "markdown",
   "id": "12936499",
   "metadata": {},
   "source": [
    "## Q4 - Using PyInputPlus, how do you ensure that the user enters a whole number between 0 and 99?\n",
    "Ans- By using pyip.inputint(min=0, max=99)"
   ]
  },
  {
   "cell_type": "markdown",
   "id": "ff78546c",
   "metadata": {},
   "source": [
    "## Q5 - What is transferred to the keyword arguments allowRegexes and blockRegexes?\n",
    "Ans- A list of regex strings that are either explicitly allowed or denied."
   ]
  },
  {
   "cell_type": "markdown",
   "id": "fb543603",
   "metadata": {},
   "source": [
    "## Q6 - If a blank input is entered three times, what does inputStr(limit=3) do?\n",
    "Ans- The function will raise RetryLimitException."
   ]
  },
  {
   "cell_type": "markdown",
   "id": "9e6188b5",
   "metadata": {},
   "source": [
    "## Q7 - If blank input is entered three times, what does inputStr(limit=3, default=&#39;hello&#39;) do?\n",
    "Ans- The function returns the value 'hello'"
   ]
  }
 ],
 "metadata": {
  "kernelspec": {
   "display_name": "Python 3 (ipykernel)",
   "language": "python",
   "name": "python3"
  },
  "language_info": {
   "codemirror_mode": {
    "name": "ipython",
    "version": 3
   },
   "file_extension": ".py",
   "mimetype": "text/x-python",
   "name": "python",
   "nbconvert_exporter": "python",
   "pygments_lexer": "ipython3",
   "version": "3.9.13"
  }
 },
 "nbformat": 4,
 "nbformat_minor": 5
}
