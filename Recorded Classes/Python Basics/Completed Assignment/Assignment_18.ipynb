{
 "cells": [
  {
   "cell_type": "markdown",
   "id": "1c3d4550",
   "metadata": {},
   "source": [
    "# Assignment 18"
   ]
  },
  {
   "cell_type": "markdown",
   "id": "6265678a",
   "metadata": {},
   "source": [
    "## 1. Create a zoo.py file first. Define the hours() function, which prints the string &#39;Open 9-5 daily&#39;. Then, use the interactive interpreter to import the zoo module and call its hours() function.\n",
    "Ans-"
   ]
  },
  {
   "cell_type": "code",
   "execution_count": null,
   "id": "7141beab",
   "metadata": {},
   "outputs": [],
   "source": [
    "import zoo\n",
    "from importlib import reload\n",
    "reload(zoo)\n",
    "\n",
    "zoo.hours()"
   ]
  },
  {
   "cell_type": "markdown",
   "id": "49cdce01",
   "metadata": {},
   "source": [
    "## 2. In the interactive interpreter, import the zoo module as menagerie and call its hours() function.\n",
    "Ans-"
   ]
  },
  {
   "cell_type": "code",
   "execution_count": null,
   "id": "1e4d408f",
   "metadata": {},
   "outputs": [],
   "source": [
    "import zoo as menagerie\n",
    "menagerie.hours()"
   ]
  },
  {
   "cell_type": "markdown",
   "id": "9c51011b",
   "metadata": {},
   "source": [
    "## 3. Using the interpreter, explicitly import and call the hours() function from zoo.\n",
    "Ans-"
   ]
  },
  {
   "cell_type": "code",
   "execution_count": null,
   "id": "6bd2c0ce",
   "metadata": {},
   "outputs": [],
   "source": [
    "from zoo import hours\n",
    "hours()"
   ]
  },
  {
   "cell_type": "markdown",
   "id": "a75bbe2b",
   "metadata": {},
   "source": [
    "## 4. Import the hours() function as info and call it.\n",
    "Ans-"
   ]
  },
  {
   "cell_type": "code",
   "execution_count": null,
   "id": "98835c57",
   "metadata": {},
   "outputs": [],
   "source": [
    "from zoo import hours as info\n",
    "info()"
   ]
  },
  {
   "cell_type": "markdown",
   "id": "3152184d",
   "metadata": {},
   "source": [
    "## 5. Create a plain dictionary with the key-value pairs &#39;a&#39;: 1, &#39;b&#39;: 2, and &#39;c&#39;: 3, and print it out.\n",
    "Ans-"
   ]
  },
  {
   "cell_type": "code",
   "execution_count": 2,
   "id": "e97bffc5",
   "metadata": {},
   "outputs": [
    {
     "data": {
      "text/plain": [
       "{'a': 1, 'b': 2, 'c': 3}"
      ]
     },
     "execution_count": 2,
     "metadata": {},
     "output_type": "execute_result"
    }
   ],
   "source": [
    "plain = {'a': 1, 'b': 2, 'c': 3}\n",
    "plain"
   ]
  },
  {
   "cell_type": "markdown",
   "id": "847f637f",
   "metadata": {},
   "source": [
    "## 6.Make an OrderedDict called fancy from the same pairs listed in 5 and print it. Did it print in the same order as plain?\n",
    "Ans-"
   ]
  },
  {
   "cell_type": "code",
   "execution_count": 3,
   "id": "581b1efa",
   "metadata": {},
   "outputs": [
    {
     "data": {
      "text/plain": [
       "OrderedDict([('a', 1), ('b', 2), ('c', 3)])"
      ]
     },
     "execution_count": 3,
     "metadata": {},
     "output_type": "execute_result"
    }
   ],
   "source": [
    "from collections import OrderedDict\n",
    "fancy = OrderedDict([('a', 1), ('b', 2), ('c', 3)])\n",
    "fancy"
   ]
  },
  {
   "cell_type": "markdown",
   "id": "6d27d956",
   "metadata": {},
   "source": [
    "## 7. Make a default dictionary called dict_of_lists and pass it the argument list. Make the list dict_of_lists[&#39;a&#39;] and append the value &#39;something for a&#39; to it in one assignment. Print dict_of_lists[&#39;a&#39;].\n",
    "Ans-"
   ]
  },
  {
   "cell_type": "code",
   "execution_count": 5,
   "id": "afef442e",
   "metadata": {},
   "outputs": [
    {
     "data": {
      "text/plain": [
       "['something for a']"
      ]
     },
     "execution_count": 5,
     "metadata": {},
     "output_type": "execute_result"
    }
   ],
   "source": [
    "from collections import defaultdict\n",
    "dict_of_lists = defaultdict(list)\n",
    "dict_of_lists['a'].append('something for a')\n",
    "dict_of_lists['a']"
   ]
  }
 ],
 "metadata": {
  "kernelspec": {
   "display_name": "Python 3 (ipykernel)",
   "language": "python",
   "name": "python3"
  },
  "language_info": {
   "codemirror_mode": {
    "name": "ipython",
    "version": 3
   },
   "file_extension": ".py",
   "mimetype": "text/x-python",
   "name": "python",
   "nbconvert_exporter": "python",
   "pygments_lexer": "ipython3",
   "version": "3.9.13"
  }
 },
 "nbformat": 4,
 "nbformat_minor": 5
}
