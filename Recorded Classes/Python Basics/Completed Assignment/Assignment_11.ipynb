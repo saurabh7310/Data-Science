{
 "cells": [
  {
   "cell_type": "markdown",
   "id": "e788d09a",
   "metadata": {},
   "source": [
    "# Assignment 11 "
   ]
  },
  {
   "cell_type": "markdown",
   "id": "af4883b5",
   "metadata": {},
   "source": [
    "## Q1- Create an assert statement that throws an AssertionError if the variable spam is a negative integer.\n",
    "Ans- assert(spam >= 10, 'The spam variable is less than 10.')"
   ]
  },
  {
   "cell_type": "markdown",
   "id": "9a91a091",
   "metadata": {},
   "source": [
    "## Q2- Write an assert statement that triggers an AssertionError if the variables eggs and bacon contain strings that are the same as each other, even if their cases are different (that is, &#39;hello&#39; and &#39;hello&#39; are considered the same, and &#39;goodbye&#39; and &#39;GOODbye&#39; are also considered the same).\n",
    "Ans- assert(eggs.lower() != bacon.lower(), 'The eggs and bacon variables are the same!') or assert(eggs.upper() != bacon.upper(), 'The eggs and bacon variables are the same!')"
   ]
  },
  {
   "cell_type": "markdown",
   "id": "79047938",
   "metadata": {},
   "source": [
    "## Q3- Create an assert statement that throws an AssertionError every time.\n",
    "Ans- assert(False, 'This assertion always triggers.')"
   ]
  },
  {
   "cell_type": "markdown",
   "id": "ea774442",
   "metadata": {},
   "source": [
    "## Q4- What are the two lines that must be present in your software in order to call logging.debug()?\n",
    "Ans- To be able to call logging.debug(), you must have these two lines at the start of your program: import logging logging.basicConfig(level=logging.DEBUG, format=' %(asctime)s - %(levelname)s - %(message)s')"
   ]
  },
  {
   "cell_type": "markdown",
   "id": "77d4ad42",
   "metadata": {},
   "source": [
    "## Q5- What are the two lines that your program must have in order to have logging.debug() send a logging message to a file named programLog.txt?\n",
    "Ans- "
   ]
  },
  {
   "cell_type": "code",
   "execution_count": 1,
   "id": "02309352",
   "metadata": {},
   "outputs": [],
   "source": [
    "import logging \n",
    "\n",
    "logging.basicConfig(filename='programLog.txt',\n",
    "                    level=logging.DEBUG,\n",
    "                    format=' %(asctime)s - %(levelname)s - %(message)s')"
   ]
  },
  {
   "cell_type": "markdown",
   "id": "9ee2e70c",
   "metadata": {},
   "source": [
    "## Q6- What are the five levels of logging?\n",
    "Ans- DEBUG, INFO, WARNING, ERROR, and CRITICAL."
   ]
  },
  {
   "cell_type": "markdown",
   "id": "a1394a9e",
   "metadata": {},
   "source": [
    "## Q7- What line of code would you add to your software to disable all logging messages?\n",
    "Ans- logging.disable(logging.CRITICAL)"
   ]
  },
  {
   "cell_type": "markdown",
   "id": "93aeffa6",
   "metadata": {},
   "source": [
    "## Q8- Why is using logging messages better than using print() to display the same message?\n",
    "Ans- You can disable logging messages without removing the logging function calls. You can selectively disable lower-level logging messages. You can create logging messages. Logging messages provides a timestamp."
   ]
  },
  {
   "cell_type": "markdown",
   "id": "c20627b2",
   "metadata": {},
   "source": [
    "## Q9- What are the differences between the Step Over, Step In, and Step Out buttons in the debugger?\n",
    "Ans- The Step button will move the debugger into a function call. The Over button will quickly execute the function call without stepping into it. The Out button will quickly execute the rest of the code until it steps out of the function it currently is in."
   ]
  },
  {
   "cell_type": "markdown",
   "id": "0fae80c6",
   "metadata": {},
   "source": [
    "## Q10- After you click Continue, when will the debugger stop ?\n",
    "Ans- click Go, the debugger will stop when it has reached the end of the program or a line with a breakpoint."
   ]
  },
  {
   "cell_type": "markdown",
   "id": "7a03795d",
   "metadata": {},
   "source": [
    "## Q11- What is the concept of a breakpoint?\n",
    "Ans- breakpoint is a setting on a line of code that causes the debugger to pause when the program execution reaches the line"
   ]
  }
 ],
 "metadata": {
  "kernelspec": {
   "display_name": "Python 3 (ipykernel)",
   "language": "python",
   "name": "python3"
  },
  "language_info": {
   "codemirror_mode": {
    "name": "ipython",
    "version": 3
   },
   "file_extension": ".py",
   "mimetype": "text/x-python",
   "name": "python",
   "nbconvert_exporter": "python",
   "pygments_lexer": "ipython3",
   "version": "3.9.13"
  }
 },
 "nbformat": 4,
 "nbformat_minor": 5
}
