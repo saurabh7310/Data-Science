{
 "cells": [
  {
   "cell_type": "markdown",
   "id": "a116964f",
   "metadata": {},
   "source": [
    "# Assignment_03"
   ]
  },
  {
   "cell_type": "markdown",
   "id": "c63e1022",
   "metadata": {},
   "source": [
    "### Q1 - Why are functions advantageous to have in your programs?\n",
    "\n",
    "Ans- The advantages of using fuctions is that, functions reduce the need for duplicate code. This makes programs shorter, easier to read, and easier to update."
   ]
  },
  {
   "cell_type": "markdown",
   "id": "cf90344d",
   "metadata": {},
   "source": [
    "### Q2- When does the code in a function run: when it's specified or when it's called?\n",
    "\n",
    "Ans - The code in a fuction execute when the fuction is called, not when the fuction is defined."
   ]
  },
  {
   "cell_type": "markdown",
   "id": "f74bad18",
   "metadata": {},
   "source": [
    "### Q3- What statement creates a function?\n",
    "\n",
    "Ans - The “def” keyword is a statement for defining a function in Python. You start a function with the def keyword, specify a name followed by a colon (:) sign. The “def” call creates the function object and assigns it to the name given. You can further re-assign the same function object to other names."
   ]
  },
  {
   "cell_type": "markdown",
   "id": "039ff88a",
   "metadata": {},
   "source": [
    "### Q4- What is the difference between a function and a function call?\n",
    "\n",
    "Ans - A fucntion is a block of code that does a particular operation and returns a result. A fuction call is the code used to pass control to a function."
   ]
  },
  {
   "cell_type": "markdown",
   "id": "9649d416",
   "metadata": {},
   "source": [
    "### Q5- How many global scopes are there in a Python program? How many local scopes?\n",
    "\n",
    "Ans - The scope of global variables is the entire program whereas the scope of variable is limited to the fuction where it is defined."
   ]
  },
  {
   "cell_type": "markdown",
   "id": "8d540089",
   "metadata": {},
   "source": [
    "### Q6- What happens to variables in a local scope when the function call returns?\n",
    "\n",
    "Ans - A local variable retains its value until the next time the fuction is called. A local variable becomes undefined after the fuction call completes."
   ]
  },
  {
   "cell_type": "markdown",
   "id": "b5b1c581",
   "metadata": {},
   "source": [
    "### Q7- What is the concept of a return value? Is it possible to have a return value in an expression?\n",
    "\n",
    "Ans - A return is a value that a function returns to the calling script of fuction when it completes its task. Since everything in Python is an object. So we can use any Python object as a return value."
   ]
  },
  {
   "cell_type": "markdown",
   "id": "2952f1f5",
   "metadata": {},
   "source": [
    "### Q8- If a function does not have a return statement, what is the return value of a call to that function?\n",
    "\n",
    "Ans - If no return satatement appears in a function, control auromatically returns to the calling function after the last statement of the called function is executed."
   ]
  },
  {
   "cell_type": "markdown",
   "id": "e5ed4f5d",
   "metadata": {},
   "source": [
    "### Q9- How do you make a function variable refer to the global variable?\n",
    "\n",
    "Ans - If we want ot refer to a global variable in a function, you can use the global keyword to declare which variables are global."
   ]
  },
  {
   "cell_type": "markdown",
   "id": "15bbc54c",
   "metadata": {},
   "source": [
    "### Q10- What is the data type of None?\n",
    "\n",
    "Ans - the None keywork is used to define a null value ot no value at all. None is not the same as 0, False, ot an empty string. None is a data type of its own (None Type) and only None can be None."
   ]
  },
  {
   "cell_type": "markdown",
   "id": "88826fff",
   "metadata": {},
   "source": [
    "### Q11- What does the sentence import areallyourpetsnamederic do?\n",
    "\n",
    "Ans - When we run this sentence, it will through an error name (ModuleNotFoundError: No module named 'Areallyourpetsnamederic'."
   ]
  },
  {
   "cell_type": "markdown",
   "id": "eca6376d",
   "metadata": {},
   "source": [
    "### Q12- If you had a bacon() feature in a spam module, what would you call it after importing spam?\n",
    "\n",
    "Ans - If we had a function named bacon() inside a module named spam, we can be called with spam.bacon()."
   ]
  },
  {
   "cell_type": "markdown",
   "id": "90c72431",
   "metadata": {},
   "source": [
    "### Q13- What can you do to save a programme from crashing if it encounters an error?\n",
    "\n",
    "Ans - When it encounters an error the contromis passed to the except block, skipping the code in between. As seen in the above code, we have moved out code inside a tru and excet statement. Try running the program and it should throw and error message instead of crashing the program."
   ]
  },
  {
   "cell_type": "markdown",
   "id": "ddcf774b",
   "metadata": {},
   "source": [
    "### Q14- What is the purpose of the try clause? What is the purpose of the except clause?\n",
    "\n",
    "Ans - The try block lets you  test a block of code for errors. The except block lets you handle the error. The else block you execute code when there is no error. The finally block lets you execute code, reardles of the result of the try-and except blocks."
   ]
  }
 ],
 "metadata": {
  "kernelspec": {
   "display_name": "Python 3 (ipykernel)",
   "language": "python",
   "name": "python3"
  },
  "language_info": {
   "codemirror_mode": {
    "name": "ipython",
    "version": 3
   },
   "file_extension": ".py",
   "mimetype": "text/x-python",
   "name": "python",
   "nbconvert_exporter": "python",
   "pygments_lexer": "ipython3",
   "version": "3.9.12"
  }
 },
 "nbformat": 4,
 "nbformat_minor": 5
}
