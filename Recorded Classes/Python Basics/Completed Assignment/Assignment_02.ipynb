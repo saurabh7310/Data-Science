{
 "cells": [
  {
   "cell_type": "markdown",
   "id": "9088196b",
   "metadata": {},
   "source": [
    "# Assignment_02"
   ]
  },
  {
   "cell_type": "markdown",
   "id": "b662580c",
   "metadata": {},
   "source": [
    "### Q1 - What are the two values of the Boolean data type? How do you write them?"
   ]
  },
  {
   "cell_type": "markdown",
   "id": "a3e228da",
   "metadata": {},
   "source": [
    "Ans - \n",
    "\n",
    "There are only two values present in Boolean data type. Because at a time only one statement can be True. Like if a statement is true then that statmanet can't be both True and False at a time."
   ]
  },
  {
   "cell_type": "markdown",
   "id": "a9e63cdb",
   "metadata": {},
   "source": [
    "### Q2 - What are the three different types of Boolean operators?"
   ]
  },
  {
   "cell_type": "markdown",
   "id": "f6a840ba",
   "metadata": {},
   "source": [
    "Ans - \n",
    "\n",
    "There are three different type of Boolean operators that are - \n",
    "1. AND\n",
    "2. OR\n",
    "3. NOT"
   ]
  },
  {
   "cell_type": "markdown",
   "id": "941caf8c",
   "metadata": {},
   "source": [
    "### Q3 - Make a list of each Boolean operator&#39;s truth tables (i.e. every possible combination of Boolean values for the operator and what it evaluate )."
   ]
  },
  {
   "cell_type": "markdown",
   "id": "0a092383",
   "metadata": {},
   "source": [
    "Ans - True is 1 False is 0.\n",
    "\n",
    "    AND Operator ::  \n",
    "                       A        B      AND\n",
    "                     True and True    True\n",
    "                     True and False   False\n",
    "                     Fale and True    False\n",
    "                     False and False  False\n",
    "                     \n",
    "    OR Operator ::   \n",
    "                       A        B      OR\n",
    "                     True and True    True\n",
    "                     True and False   True\n",
    "                     False and True   True\n",
    "                     False and False  False\n",
    "                     \n",
    "    NOT Operator ::  \n",
    "                        A        NOT\n",
    "                     Not True   False\n",
    "                     Not False  True"
   ]
  },
  {
   "cell_type": "markdown",
   "id": "548d1123",
   "metadata": {},
   "source": [
    "### Q4 - What are the values of the following expressions?\n",
    "#### (5 > 4) and (3 == 5)\n",
    "#### not(5 > 4)\n",
    "#### (5 > 4) or (3 == 5)\n",
    "#### (True and True) and (True == False)\n",
    "#### not(False) or not(True)"
   ]
  },
  {
   "cell_type": "markdown",
   "id": "a8e9ae7e",
   "metadata": {},
   "source": [
    "Ans - \n",
    "\n",
    "    (5 > 4) and (3 == 5)  = False\n",
    "    not(5 > 4)  = False\n",
    "    (5 > 4) or (3 == 5)  = True\n",
    "    (True and True) and (True == False) = False\n",
    "    not(False) or not(True) = True"
   ]
  },
  {
   "cell_type": "markdown",
   "id": "2aecdf5b",
   "metadata": {},
   "source": [
    "### Q5 - What are the six comparison operators?"
   ]
  },
  {
   "cell_type": "markdown",
   "id": "0e1931b4",
   "metadata": {},
   "source": [
    "Ans - \n",
    "\n",
    "These are six comparison operators :\n",
    "\n",
    "    1. ( = ) : Equal to Operator\n",
    "    2. ( > ) : Greater Then Operator\n",
    "    3. ( < ) : Less then Operator\n",
    "    4. ( >= ): Greater then or Equal to Operator\n",
    "    5. ( <= ): Less then or Equal to Operator\n",
    "    6. ( != ): Not Equal to Operator"
   ]
  },
  {
   "cell_type": "markdown",
   "id": "711ebee9",
   "metadata": {},
   "source": [
    "### Q6 - How do you tell the difference between the equal to and assignment operators?Describe a condition and when you would use one."
   ]
  },
  {
   "cell_type": "markdown",
   "id": "73f309f8",
   "metadata": {},
   "source": [
    "Ans - \n",
    "\n",
    "( = ) Equal to operator is used for storing a value in variable, while ( == ) Equal-to Equal-to is used for comparing the values."
   ]
  },
  {
   "cell_type": "code",
   "execution_count": 27,
   "id": "14fa16c8",
   "metadata": {},
   "outputs": [
    {
     "name": "stdout",
     "output_type": "stream",
     "text": [
      "Use of ( == ) comparision operator\n",
      "False\n",
      "\n",
      "Use of ( = ) equal to operator\n",
      "a =  10\n"
     ]
    }
   ],
   "source": [
    "print('Use of ( == ) comparision operator')\n",
    "if 2 == 10:\n",
    "    print('True')\n",
    "else:\n",
    "    print('False')\n",
    "\n",
    "print('\\nUse of ( = ) equal to operator')\n",
    "a = 10\n",
    "print('a = ', a)"
   ]
  },
  {
   "cell_type": "markdown",
   "id": "a6cdc1b6",
   "metadata": {},
   "source": [
    "### Q7 - Identify the three blocks in this code:\n",
    "    spam = 0\n",
    "    if spam == 10:\n",
    "    print('eggs')\n",
    "    if spam > 5:\n",
    "    print('bacon')\n",
    "    else:\n",
    "    print('ham')\n",
    "    print('spam')\n",
    "    print('spam')"
   ]
  },
  {
   "cell_type": "code",
   "execution_count": 2,
   "id": "b7ef4854",
   "metadata": {},
   "outputs": [
    {
     "name": "stdout",
     "output_type": "stream",
     "text": [
      "ham\n",
      "spam\n",
      "spam\n"
     ]
    }
   ],
   "source": [
    "spam = 0\n",
    "if spam == 10:       # Block 1\n",
    "    print('eggs')\n",
    "if spam > 5:         # Block 2\n",
    "    print('bacon')\n",
    "else:                 # Block 3\n",
    "    print('ham')\n",
    "    print('spam')\n",
    "    print('spam')"
   ]
  },
  {
   "cell_type": "markdown",
   "id": "9704ec80",
   "metadata": {},
   "source": [
    "### Q8 - Write code that prints Hello if 1 is stored in spam, prints Howdy if 2 is stored in spam, and prints Greetings! if anything else is stored in spam."
   ]
  },
  {
   "cell_type": "code",
   "execution_count": 10,
   "id": "e6aa6d82",
   "metadata": {},
   "outputs": [
    {
     "name": "stdout",
     "output_type": "stream",
     "text": [
      "Enter 1 for Hello, 2 for Howdy, anything for Greetings :  2\n",
      "Howdy\n"
     ]
    }
   ],
   "source": [
    "spam = int(input('Enter 1 for Hello, 2 for Howdy, anything for Greetings :  '))\n",
    "if spam == 1:\n",
    "    print('Hello')\n",
    "    \n",
    "elif spam == 2:\n",
    "    print('Howdy')\n",
    "else:\n",
    "    print('Greetings')"
   ]
  },
  {
   "cell_type": "markdown",
   "id": "bf0774eb",
   "metadata": {},
   "source": [
    "### Q9 - If your programme is stuck in an endless loop, what keys you’ll press?"
   ]
  },
  {
   "cell_type": "markdown",
   "id": "e028f3e5",
   "metadata": {},
   "source": [
    "Ans - \n",
    "\n",
    "If my program is stuck in endless loop, then I will press ctrl + c."
   ]
  },
  {
   "cell_type": "markdown",
   "id": "749b6237",
   "metadata": {},
   "source": [
    "### Q10 - How can you tell the difference between break and continue?"
   ]
  },
  {
   "cell_type": "code",
   "execution_count": 16,
   "id": "0311ece5",
   "metadata": {},
   "outputs": [
    {
     "name": "stdout",
     "output_type": "stream",
     "text": [
      "0\n",
      "1\n",
      "2\n",
      "3\n",
      "4\n",
      "Break statement\n",
      "0\n",
      "1\n",
      "2\n",
      "3\n",
      "4\n",
      "Skipped 5 and start from beginning till end\n",
      "6\n",
      "7\n",
      "8\n",
      "9\n",
      "Continue statement\n"
     ]
    }
   ],
   "source": [
    "## Example :-\n",
    "\n",
    "for i in range(10):\n",
    "    if (i == 5):\n",
    "        break\n",
    "    print(i)\n",
    "print(\"Break statement\")\n",
    "\n",
    "for i in range(10):\n",
    "    if (i == 5):\n",
    "        print('Skipped 5 and start from beginning till end')\n",
    "        continue\n",
    "        \n",
    "    print(i)\n",
    "print('Continue statement')"
   ]
  },
  {
   "cell_type": "markdown",
   "id": "691d1374",
   "metadata": {},
   "source": [
    "Ans - \n",
    "\n",
    "The Break statement moves the execution just outside of loop, but continue statement starts from the begining of the loop."
   ]
  },
  {
   "cell_type": "markdown",
   "id": "83bb89bf",
   "metadata": {},
   "source": [
    "### Q11 - In a for loop, what is the difference between range(10), range(0, 10), and range(0, 10, 1)?"
   ]
  },
  {
   "cell_type": "code",
   "execution_count": 22,
   "id": "f93543a8",
   "metadata": {},
   "outputs": [
    {
     "name": "stdout",
     "output_type": "stream",
     "text": [
      "*********    range(10)    *************\n",
      "0\n",
      "1\n",
      "2\n",
      "3\n",
      "4\n",
      "5\n",
      "6\n",
      "7\n",
      "8\n",
      "9\n",
      "**********    range(0, 10) *************\n",
      "0\n",
      "1\n",
      "2\n",
      "3\n",
      "4\n",
      "5\n",
      "6\n",
      "7\n",
      "8\n",
      "9\n",
      "**********    range(0, 10, 0)*************\n",
      "0\n",
      "1\n",
      "2\n",
      "3\n",
      "4\n",
      "5\n",
      "6\n",
      "7\n",
      "8\n",
      "9\n"
     ]
    }
   ],
   "source": [
    "print('*********    range(10)    *************')\n",
    "for i in range(10):\n",
    "    print(i)\n",
    "    \n",
    "print('**********    range(0, 10) *************')\n",
    "for i in range(0, 10):\n",
    "    print(i)\n",
    "\n",
    "print('**********    range(0, 10, 0)*************')\n",
    "for i in range(0, 10, 1):\n",
    "    print(i)"
   ]
  },
  {
   "cell_type": "markdown",
   "id": "adbe68db",
   "metadata": {},
   "source": [
    "Ans - \n",
    "\n",
    "If we execute these statements the output of all three statements will be same.\n",
    "\n",
    "0, 1, 2, 3, 4, 5, 6, ,7, 8, 9\n",
    "\n",
    "In range(start, stop, steps) "
   ]
  },
  {
   "cell_type": "markdown",
   "id": "71631922",
   "metadata": {},
   "source": [
    "### Q11 - Write a short program that prints the numbers 1 to 10 using a for loop. Then write an equivalent program that prints the numbers 1 to 10 using a while loop."
   ]
  },
  {
   "cell_type": "code",
   "execution_count": 26,
   "id": "d256fc8d",
   "metadata": {},
   "outputs": [
    {
     "name": "stdout",
     "output_type": "stream",
     "text": [
      "Using For Loop print 1 to 10\n",
      "1\n",
      "2\n",
      "3\n",
      "4\n",
      "5\n",
      "6\n",
      "7\n",
      "8\n",
      "9\n",
      "10\n",
      "\n",
      "\n",
      "Using while loop print 1 to 10\n",
      "1\n",
      "2\n",
      "3\n",
      "4\n",
      "5\n",
      "6\n",
      "7\n",
      "8\n",
      "9\n",
      "10\n"
     ]
    }
   ],
   "source": [
    "print('Using For Loop print 1 to 10')\n",
    "for i in range(1, 11):\n",
    "    print(i)\n",
    "    \n",
    "print('\\n\\nUsing while loop print 1 to 10')\n",
    "i = 1\n",
    "while (i <= 10):\n",
    "    print(i)\n",
    "    i += 1"
   ]
  },
  {
   "cell_type": "markdown",
   "id": "418f1284",
   "metadata": {},
   "source": [
    "### Q13 - If you had a function named bacon() inside a module named spam, how would you call it after importing spam?"
   ]
  },
  {
   "cell_type": "markdown",
   "id": "7c86c065",
   "metadata": {},
   "source": [
    "Ans - \n",
    "We can be import spam.bacon()"
   ]
  }
 ],
 "metadata": {
  "kernelspec": {
   "display_name": "Python 3 (ipykernel)",
   "language": "python",
   "name": "python3"
  },
  "language_info": {
   "codemirror_mode": {
    "name": "ipython",
    "version": 3
   },
   "file_extension": ".py",
   "mimetype": "text/x-python",
   "name": "python",
   "nbconvert_exporter": "python",
   "pygments_lexer": "ipython3",
   "version": "3.9.12"
  }
 },
 "nbformat": 4,
 "nbformat_minor": 5
}
