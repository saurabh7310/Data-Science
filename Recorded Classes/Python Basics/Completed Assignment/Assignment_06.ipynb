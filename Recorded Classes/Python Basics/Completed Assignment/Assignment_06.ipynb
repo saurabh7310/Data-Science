{
 "cells": [
  {
   "cell_type": "markdown",
   "id": "4b884aa8",
   "metadata": {},
   "source": [
    "# Assignment 06"
   ]
  },
  {
   "cell_type": "markdown",
   "id": "9b67389d",
   "metadata": {},
   "source": [
    "## Q1 - 1. What are escape characters, and how do you use them?\n",
    "\n",
    "Ans- Escape characters or sequences are illegal characters for Python and never get printed as part of the output. When backslash is used in Python. \n",
    "\n",
    "        OR\n",
    "        \n",
    "To insert characters that are illegal in a string, use an escape character. An escape character is a backslash \\ followed by the character you want to insert."
   ]
  },
  {
   "cell_type": "code",
   "execution_count": 1,
   "id": "7de588d4",
   "metadata": {},
   "outputs": [
    {
     "name": "stdout",
     "output_type": "stream",
     "text": [
      "Hello, \n",
      "\tMy name is Saurabh Sharma.\n"
     ]
    }
   ],
   "source": [
    "print(\"Hello, \\n\\tMy name is Saurabh Sharma.\")"
   ]
  },
  {
   "cell_type": "markdown",
   "id": "04104f0c",
   "metadata": {},
   "source": [
    "## Q2 - What do the escape characters n and t stand for?\n",
    "Ans- Escape character n is for insert a new line and t is for tab in the line."
   ]
  },
  {
   "cell_type": "code",
   "execution_count": 2,
   "id": "0d5b63b7",
   "metadata": {},
   "outputs": [
    {
     "name": "stdout",
     "output_type": "stream",
     "text": [
      "Hello, \n",
      "\tMy name is Saurabh Sharma.\n"
     ]
    }
   ],
   "source": [
    "print(\"Hello, \\n\\tMy name is Saurabh Sharma.\")"
   ]
  },
  {
   "cell_type": "markdown",
   "id": "262962b7",
   "metadata": {},
   "source": [
    "## Q3 - What is the way to include backslash characters in a string?\n",
    "Ans- To include backslash character in a string we have to use two backslash (//)."
   ]
  },
  {
   "cell_type": "code",
   "execution_count": 6,
   "id": "7c476c20",
   "metadata": {},
   "outputs": [
    {
     "name": "stdout",
     "output_type": "stream",
     "text": [
      "Backslash \\n\n"
     ]
    }
   ],
   "source": [
    "print(\"Backslash \\\\n\")"
   ]
  },
  {
   "cell_type": "markdown",
   "id": "f49fe970",
   "metadata": {},
   "source": [
    "## Q4 - The string &quot;Howl&#39;s Moving Castle&quot; is a correct value. Why isn&#39;t the single quote character in the word Howl&#39;s not escaped a problem?\n",
    "Ans- The string \"Howl's Moving Castle\" is a correct value. If we put the single quotes instead of double then the string will end on the first single quotes after the howl's, through the error."
   ]
  },
  {
   "cell_type": "code",
   "execution_count": 8,
   "id": "2591a380",
   "metadata": {},
   "outputs": [
    {
     "ename": "SyntaxError",
     "evalue": "invalid syntax (3799292507.py, line 5)",
     "output_type": "error",
     "traceback": [
      "\u001b[1;36m  File \u001b[1;32m\"C:\\Users\\Saurabh sharma\\AppData\\Local\\Temp\\ipykernel_4236\\3799292507.py\"\u001b[1;36m, line \u001b[1;32m5\u001b[0m\n\u001b[1;33m    print('Howl's Moving Castle')\u001b[0m\n\u001b[1;37m                ^\u001b[0m\n\u001b[1;31mSyntaxError\u001b[0m\u001b[1;31m:\u001b[0m invalid syntax\n"
     ]
    }
   ],
   "source": [
    "print(\"Correct Way\")\n",
    "print(\"Howl's Moving Castle\")\n",
    "\n",
    "print(\"Wrong Way\")\n",
    "print('Howl's Moving Castle')"
   ]
  },
  {
   "cell_type": "markdown",
   "id": "acbaeff9",
   "metadata": {},
   "source": [
    "## Q5 - How do you write a string of newlines if you don&#39;t want to use the n character?\n",
    "Ans- We can use triple quotes to write a string in the new line."
   ]
  },
  {
   "cell_type": "code",
   "execution_count": 9,
   "id": "f9fcdf0e",
   "metadata": {},
   "outputs": [
    {
     "name": "stdout",
     "output_type": "stream",
     "text": [
      "Hello\n",
      "My name is Saurabh Sharma.\n"
     ]
    }
   ],
   "source": [
    "print('''Hello\n",
    "My name is Saurabh Sharma.''')"
   ]
  },
  {
   "cell_type": "markdown",
   "id": "f901ef41",
   "metadata": {},
   "source": [
    "## Q6 - What are the values of the given expressions?\n",
    "### &#39;Hello, world!&#39;[1]\n",
    "### &#39;Hello, world!&#39;[0:5]\n",
    "### &#39;Hello, world!&#39;[:5]\n",
    "### &#39;Hello, world!&#39;[3:]\n",
    "\n"
   ]
  },
  {
   "cell_type": "markdown",
   "id": "3fb0d163",
   "metadata": {},
   "source": [
    "Ans - \n",
    "### 'Hello, world!'[1]      =>> e\n",
    "### 'Hello, world!'[0:5]   =>> Hello\n",
    "### 'Hello, world!'[:5]     =>> Hello\n",
    "### 'Hello, world!'[3:]     =>> lo, world!"
   ]
  },
  {
   "cell_type": "markdown",
   "id": "ab7f1891",
   "metadata": {},
   "source": [
    "## Q7 - What are the values of the following expressions?\n",
    "### &#39;Hello&#39;.upper()\n",
    "### &#39;Hello&#39;.upper().isupper()\n",
    "### &#39;Hello&#39;.upper().lower()\n",
    "\n",
    "Ans-\n",
    "\n",
    "### 'Hello'.upper()          =>> HELLO\n",
    "### 'Hello'.isupper()       =>> False\n",
    "### 'Hello'.lower()          =>> hello"
   ]
  },
  {
   "cell_type": "markdown",
   "id": "d94be4e3",
   "metadata": {},
   "source": [
    "## Q8 - What are the values of the following expressions?\n",
    "### &#39;Remember, remember, the fifth of July.&#39;.split()\n",
    "### &#39;-&#39;.join(&#39;There can only one.&#39;.split())\n",
    "\n",
    "## Ans- \n",
    "\n",
    "#### ['Remember,', 'remember,', 'the', 'fifth', 'of', 'July.']\n",
    "#### There-can-only-one."
   ]
  },
  {
   "cell_type": "markdown",
   "id": "901193be",
   "metadata": {},
   "source": [
    "## Q9 - What are the methods for right-justifying, left-justifying, and centering a string?\n"
   ]
  },
  {
   "cell_type": "code",
   "execution_count": 37,
   "id": "e83046b1",
   "metadata": {},
   "outputs": [
    {
     "name": "stdout",
     "output_type": "stream",
     "text": [
      "          Center         \n",
      "Left\n",
      "                                             Right\n"
     ]
    }
   ],
   "source": [
    "print(\"Center\".center(25))\n",
    "print(\"Left\".ljust(1))\n",
    "print(\"Right\".rjust(50))"
   ]
  },
  {
   "cell_type": "markdown",
   "id": "1911f7d8",
   "metadata": {},
   "source": [
    "## Q10 - What is the best way to remove whitespace characters from the start or end?\n",
    "\n",
    "Ans-\n",
    "\n",
    "Use the . strip() method to remove whitespace and characters from the beginning and the end of a string. Use the . lstrip() method to remove whitespace and characters only from the beginning of a string."
   ]
  }
 ],
 "metadata": {
  "kernelspec": {
   "display_name": "Python 3 (ipykernel)",
   "language": "python",
   "name": "python3"
  },
  "language_info": {
   "codemirror_mode": {
    "name": "ipython",
    "version": 3
   },
   "file_extension": ".py",
   "mimetype": "text/x-python",
   "name": "python",
   "nbconvert_exporter": "python",
   "pygments_lexer": "ipython3",
   "version": "3.9.13"
  }
 },
 "nbformat": 4,
 "nbformat_minor": 5
}
