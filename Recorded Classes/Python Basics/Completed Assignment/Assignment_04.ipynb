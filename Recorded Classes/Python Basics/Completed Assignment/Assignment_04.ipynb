{
 "cells": [
  {
   "cell_type": "markdown",
   "id": "04d0ab23",
   "metadata": {},
   "source": [
    "# Assignment_04"
   ]
  },
  {
   "cell_type": "markdown",
   "id": "d2ad8580",
   "metadata": {},
   "source": [
    "### Q1- What exactly is []?\n",
    "\n",
    "Ans - The empty list [] value, which is a list value that contains no items. This is similar to how \"\" is the string value."
   ]
  },
  {
   "cell_type": "markdown",
   "id": "8baf0f82",
   "metadata": {},
   "source": [
    "### Q2- In a list of values stored in a variable called spam, how would you assign the value 'hello' as the third value? (Assume [2, 4, 6, 8, 10] are in spam.)"
   ]
  },
  {
   "cell_type": "code",
   "execution_count": 1,
   "id": "0a48151f",
   "metadata": {},
   "outputs": [
    {
     "name": "stdout",
     "output_type": "stream",
     "text": [
      "[2, 4, 'hello', 8, 10]\n"
     ]
    }
   ],
   "source": [
    "spam = [2, 4, 6, 8, 10]\n",
    "spam[2] = \"hello\"\n",
    "print(spam)"
   ]
  },
  {
   "cell_type": "markdown",
   "id": "7a0b92d6",
   "metadata": {},
   "source": [
    "#### Lets pretend the spam includes the list ['a', 'b', 'c', 'd'] for the next three queries. "
   ]
  },
  {
   "cell_type": "markdown",
   "id": "efa06d2d",
   "metadata": {},
   "source": [
    "#### What is the value of spam[int(int(3*2)/11)] ?"
   ]
  },
  {
   "cell_type": "code",
   "execution_count": 7,
   "id": "18caea36",
   "metadata": {},
   "outputs": [
    {
     "data": {
      "text/plain": [
       "'d'"
      ]
     },
     "execution_count": 7,
     "metadata": {},
     "output_type": "execute_result"
    }
   ],
   "source": [
    "spam = ['a', 'b', 'c', 'd']\n",
    "spam[int(int('3'*2)/11)]"
   ]
  },
  {
   "cell_type": "markdown",
   "id": "65ab0f23",
   "metadata": {},
   "source": [
    "#### What is the value of spam[-1] ?"
   ]
  },
  {
   "cell_type": "code",
   "execution_count": 8,
   "id": "cdb325ab",
   "metadata": {},
   "outputs": [
    {
     "data": {
      "text/plain": [
       "'d'"
      ]
     },
     "execution_count": 8,
     "metadata": {},
     "output_type": "execute_result"
    }
   ],
   "source": [
    "# -1 is the last index of any indexing values.\n",
    "spam = ['a', 'b', 'c', 'd']\n",
    "spam[-1]"
   ]
  },
  {
   "cell_type": "markdown",
   "id": "78c8c497",
   "metadata": {},
   "source": [
    "#### What is the value of spam[-2] ?"
   ]
  },
  {
   "cell_type": "code",
   "execution_count": 9,
   "id": "552af5a4",
   "metadata": {},
   "outputs": [
    {
     "data": {
      "text/plain": [
       "'c'"
      ]
     },
     "execution_count": 9,
     "metadata": {},
     "output_type": "execute_result"
    }
   ],
   "source": [
    "# -2 is the last second index of any indexing values.\n",
    "spam = ['a', 'b', 'c', 'd']\n",
    "spam[-2]"
   ]
  },
  {
   "cell_type": "markdown",
   "id": "7d0104b4",
   "metadata": {},
   "source": [
    "### Lets pretend bacon has the list [3.14, 'cat', 11, 'cat', True] for the next three questions."
   ]
  },
  {
   "cell_type": "markdown",
   "id": "a6f61588",
   "metadata": {},
   "source": [
    "#### What is the value of bacon.index('cat') ?"
   ]
  },
  {
   "cell_type": "code",
   "execution_count": 10,
   "id": "8409e149",
   "metadata": {},
   "outputs": [
    {
     "data": {
      "text/plain": [
       "1"
      ]
     },
     "execution_count": 10,
     "metadata": {},
     "output_type": "execute_result"
    }
   ],
   "source": [
    "# bacon.index('cat') will show the index number of cat in List.\n",
    "bacon = [3.14, 'cat', 11, 'cat', True]\n",
    "bacon.index('cat')"
   ]
  },
  {
   "cell_type": "markdown",
   "id": "fd919ecd",
   "metadata": {},
   "source": [
    "#### How does bacon.append(99) change the look of the list value in bacon ?"
   ]
  },
  {
   "cell_type": "code",
   "execution_count": 12,
   "id": "9525fa6a",
   "metadata": {},
   "outputs": [
    {
     "data": {
      "text/plain": [
       "[3.14, 'cat', 11, 'cat', True, 99]"
      ]
     },
     "execution_count": 12,
     "metadata": {},
     "output_type": "execute_result"
    }
   ],
   "source": [
    "# bacon.append(99) will be add in the above list in the last index.\n",
    "bacon = [3.14, 'cat', 11, 'cat', True]\n",
    "bacon.append(99)\n",
    "bacon"
   ]
  },
  {
   "cell_type": "markdown",
   "id": "a0361064",
   "metadata": {},
   "source": [
    "#### How does bacon.remove('cat') change the look of the list in bacon ?"
   ]
  },
  {
   "cell_type": "code",
   "execution_count": 13,
   "id": "f8887845",
   "metadata": {},
   "outputs": [
    {
     "data": {
      "text/plain": [
       "[3.14, 11, 'cat', True]"
      ]
     },
     "execution_count": 13,
     "metadata": {},
     "output_type": "execute_result"
    }
   ],
   "source": [
    "# bacon.remove('cat') will remove the first 'cat' from the list.\n",
    "bacon = [3.14, 'cat', 11, 'cat', True]\n",
    "bacon.remove('cat')\n",
    "bacon"
   ]
  },
  {
   "cell_type": "markdown",
   "id": "bbeb6555",
   "metadata": {},
   "source": [
    "### Q9- What are the list concatenation and list replication operations ?\n",
    "\n",
    "Ans - In python (+) list concatenation operator and (*) is a list replication operator."
   ]
  },
  {
   "cell_type": "code",
   "execution_count": 14,
   "id": "de02d794",
   "metadata": {},
   "outputs": [
    {
     "data": {
      "text/plain": [
       "[2, 39, 10, 30]"
      ]
     },
     "execution_count": 14,
     "metadata": {},
     "output_type": "execute_result"
    }
   ],
   "source": [
    "# It will add two lists with each other.\n",
    "list1 = [2, 39]\n",
    "list2 = [10, 30]\n",
    "\n",
    "# List concatination\n",
    "list1+list2"
   ]
  },
  {
   "cell_type": "code",
   "execution_count": 15,
   "id": "457f0d9d",
   "metadata": {},
   "outputs": [
    {
     "data": {
      "text/plain": [
       "[3, 5, 3, 5, 3, 5]"
      ]
     },
     "execution_count": 15,
     "metadata": {},
     "output_type": "execute_result"
    }
   ],
   "source": [
    "# It will multiply with the list elements and increase the elements inside the list.\n",
    "list1 = [3, 5]\n",
    "\n",
    "# List replication\n",
    "list1*3"
   ]
  },
  {
   "cell_type": "markdown",
   "id": "fad6527f",
   "metadata": {},
   "source": [
    "### Q10- What is diference between the list methods append() and insert() ?\n",
    "\n",
    "Ans - In python append() is adding element to the end of the list. And insert() is adding befor the index of the list.\n",
    "\n",
    "#### Example :-"
   ]
  },
  {
   "cell_type": "code",
   "execution_count": 16,
   "id": "bdb71cc5",
   "metadata": {},
   "outputs": [
    {
     "data": {
      "text/plain": [
       "['Lucknow', 2334, 'Delhi', 45.34, 'Mumbai']"
      ]
     },
     "execution_count": 16,
     "metadata": {},
     "output_type": "execute_result"
    }
   ],
   "source": [
    "# append()\n",
    "\n",
    "list1 = ['Lucknow', 2334, 'Delhi', 45.34]\n",
    "list1.append('Mumbai')\n",
    "list1"
   ]
  },
  {
   "cell_type": "code",
   "execution_count": 18,
   "id": "aae9b492",
   "metadata": {},
   "outputs": [
    {
     "data": {
      "text/plain": [
       "['Lucknow', 'Mumbai', 2334, 'Delhi', 45.34]"
      ]
     },
     "execution_count": 18,
     "metadata": {},
     "output_type": "execute_result"
    }
   ],
   "source": [
    "# insert()\n",
    "\n",
    "list1 = ['Lucknow', 2334, 'Delhi', 45.34]\n",
    "list1.insert(1, 'Mumbai')\n",
    "list1"
   ]
  },
  {
   "cell_type": "markdown",
   "id": "838b282d",
   "metadata": {},
   "source": [
    "### Q11- What are the two methods for removing items from a list ?\n",
    "\n",
    "Ans - From remove() - It helps to remove the very first given element matching from the list.\n",
    "      From pop() - The pop() method removes an element from the list based on the index given."
   ]
  },
  {
   "cell_type": "markdown",
   "id": "ccdfab0a",
   "metadata": {},
   "source": [
    "### Q12- Describe how list values and string values are identical.\n",
    "\n",
    "Ans - The similarity between Lists and Strings in Python is that both are seequences. The differences between them are that fistly, Lists are mutable but Strings are immutable. Secondly, elemets of a list can be of different types whereas a String only contains characters that are all of String type."
   ]
  },
  {
   "cell_type": "code",
   "execution_count": 1,
   "id": "89c286ae",
   "metadata": {},
   "outputs": [],
   "source": [
    "# Strings\n",
    "name = \"Saurabh Sharma\"\n",
    "# List\n",
    "address = ['Vill-Bankeyganj', 262801, 'Uttar Pradesh']"
   ]
  },
  {
   "cell_type": "markdown",
   "id": "144dcf66",
   "metadata": {},
   "source": [
    "### Q13- What's the difference between tuples and lists?\n",
    "\n",
    "Ans - The key difference between the tuples and lists is that while the tuples are immutable objects the lists are mutable. This means that tuples cannot be changed while the lists can be modified. Tuples are more memory efficient than the lists."
   ]
  },
  {
   "cell_type": "markdown",
   "id": "c0168f88",
   "metadata": {},
   "source": [
    "### Q14- How do you type a tuple that only contains the integer 42 ?"
   ]
  },
  {
   "cell_type": "code",
   "execution_count": 4,
   "id": "b514762c",
   "metadata": {},
   "outputs": [
    {
     "name": "stdout",
     "output_type": "stream",
     "text": [
      "<class 'tuple'>\n",
      "(42,)\n"
     ]
    }
   ],
   "source": [
    "tuples = (42,)\n",
    "print(type(tuples))\n",
    "print(tuples)"
   ]
  },
  {
   "cell_type": "markdown",
   "id": "0fbb810e",
   "metadata": {},
   "source": [
    "### Q15- How do you get a list value's tuple form? How do you get a tuple value's list form?"
   ]
  },
  {
   "cell_type": "code",
   "execution_count": 6,
   "id": "eb00018a",
   "metadata": {},
   "outputs": [
    {
     "data": {
      "text/plain": [
       "(4, 8)"
      ]
     },
     "execution_count": 6,
     "metadata": {},
     "output_type": "execute_result"
    }
   ],
   "source": [
    "# Type casting list to tuple\n",
    "list1 = [4, 8]\n",
    "tuple1 = tuple(list1)\n",
    "tuple1"
   ]
  },
  {
   "cell_type": "code",
   "execution_count": 7,
   "id": "ab8e4293",
   "metadata": {},
   "outputs": [
    {
     "data": {
      "text/plain": [
       "[3, 9]"
      ]
     },
     "execution_count": 7,
     "metadata": {},
     "output_type": "execute_result"
    }
   ],
   "source": [
    "# Type casting tuple to list\n",
    "tupple1 = (3, 9)\n",
    "list1 = list(tuple(tupple1))\n",
    "list1"
   ]
  },
  {
   "cell_type": "markdown",
   "id": "33ce9a09",
   "metadata": {},
   "source": [
    "### Q16- Variables that \"contain\" list values are not necessarily lists themselves. Instead, what do they contain ?\n",
    "\n",
    "Ans - Variables will contain references to lists values rather than list values themselves. But for strings and integer values, variables simply contain the string or integer value."
   ]
  },
  {
   "cell_type": "markdown",
   "id": "2842c90e",
   "metadata": {},
   "source": [
    "### Q17- How do you distinguish between copy.copy() and copy.deepcopy() ?\n",
    "\n",
    "Ans - The copy.copy() fuction will do a shallow copy of a list. But the copy.deepcopy() fuction will do a deep copy of a list only copy.deepcopy() will duplicate any lists inside the list."
   ]
  }
 ],
 "metadata": {
  "kernelspec": {
   "display_name": "Python 3 (ipykernel)",
   "language": "python",
   "name": "python3"
  },
  "language_info": {
   "codemirror_mode": {
    "name": "ipython",
    "version": 3
   },
   "file_extension": ".py",
   "mimetype": "text/x-python",
   "name": "python",
   "nbconvert_exporter": "python",
   "pygments_lexer": "ipython3",
   "version": "3.9.12"
  }
 },
 "nbformat": 4,
 "nbformat_minor": 5
}
