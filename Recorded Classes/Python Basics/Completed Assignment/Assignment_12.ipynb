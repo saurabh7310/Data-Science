{
 "cells": [
  {
   "cell_type": "markdown",
   "id": "3a0450ea",
   "metadata": {},
   "source": [
    "# Assignment 12"
   ]
  },
  {
   "cell_type": "markdown",
   "id": "3b62fcf1",
   "metadata": {},
   "source": [
    "## Q1- In what modes should the PdfFileReader() and PdfFileWriter() File objects will be opened?\n",
    "Ans- These files will be opened in binary mode., read binary (rb) for PdfFileREader() and write binary (wb) PdfFileWriter()"
   ]
  },
  {
   "cell_type": "code",
   "execution_count": 1,
   "id": "cc8ed10f",
   "metadata": {},
   "outputs": [
    {
     "name": "stdout",
     "output_type": "stream",
     "text": [
      "Collecting PyPDF2\n",
      "  Downloading pypdf2-3.0.1-py3-none-any.whl (232 kB)\n",
      "     -------------------------------------- 232.6/232.6 kB 7.2 MB/s eta 0:00:00\n",
      "Requirement already satisfied: typing_extensions>=3.10.0.0 in c:\\users\\saurabh sharma\\anaconda3\\lib\\site-packages (from PyPDF2) (4.3.0)\n",
      "Installing collected packages: PyPDF2\n",
      "Successfully installed PyPDF2-3.0.1\n"
     ]
    }
   ],
   "source": [
    "!pip install PyPDF2"
   ]
  },
  {
   "cell_type": "markdown",
   "id": "a26420f1",
   "metadata": {},
   "source": [
    "## Q2- From a PdfFileReader object, how do you get a Page object for page 5?\n",
    "Asn- Calling getPage(4) will return a Page object for page 5 since page 0 is the first page."
   ]
  },
  {
   "cell_type": "code",
   "execution_count": null,
   "id": "a8f9128a",
   "metadata": {},
   "outputs": [],
   "source": [
    "import PyPDF2 as pdf\n",
    "pdfFileObj = open(\"cardealer.pdf\",'rb')\n",
    "pdfReader = pdf.PdfFileReader(pdfFileObj)\n",
    "pageObj = pdfReader.getPage(4)\n",
    "pageObj.extractText()"
   ]
  },
  {
   "cell_type": "markdown",
   "id": "1193eb1e",
   "metadata": {},
   "source": [
    "## Q3- What PdfFileReader variable stores the number of pages in the PDF document?\n",
    "Ans- "
   ]
  },
  {
   "cell_type": "code",
   "execution_count": null,
   "id": "529de09c",
   "metadata": {},
   "outputs": [],
   "source": [
    "import PyPDF2 as pdf\n",
    "pdfFileObj = open(\"cardealer.pdf\",'rb')\n",
    "pdfReader = pdf.PdfFileReader(pdfFileObj)\n",
    "pdfReader.numPages"
   ]
  },
  {
   "cell_type": "markdown",
   "id": "dbf23c07",
   "metadata": {},
   "source": [
    "## Q4- If a PdfFileReader object’s PDF is encrypted with the password swordfish, what must you do before you can obtain Page objects from it?\n",
    "Ans- Before we obtain the page object, the pdf has to be decrypted by calling .decrypt('swordfish')."
   ]
  },
  {
   "cell_type": "markdown",
   "id": "fa22faab",
   "metadata": {},
   "source": [
    "## Q5- What methods do you use to rotate a page?\n",
    "Ans- The rotateClockwise() and rotateCounterClockwise() methods. The degrees to rotate is passed as an integer argument."
   ]
  },
  {
   "cell_type": "code",
   "execution_count": null,
   "id": "89efbcc9",
   "metadata": {},
   "outputs": [],
   "source": [
    "pageObj.rotateClockwise(180)"
   ]
  },
  {
   "cell_type": "markdown",
   "id": "6f6258bc",
   "metadata": {},
   "source": [
    "## Q6- What is the difference between a Run object and a Paragraph object? \n",
    "Ans- Paragraph Object : A document contains multiple paragraphs. A paragraph begins on a new line and contains multiple\n",
    "runs. The Document object contains a list of Paragraph objects for the paragraphs in the document. (A new paragraph begins whenever the user presses ENTER or RETURN while typing in a Word document.)\n",
    "\n",
    "Run Objects : Runs are contiguous groups of characters within a paragraph with the same style"
   ]
  },
  {
   "cell_type": "markdown",
   "id": "c0d5cf2d",
   "metadata": {},
   "source": [
    "## Q7- How do you obtain a list of Paragraph objects for a Document object that’s stored in a variable named doc?\n",
    "Ans- "
   ]
  },
  {
   "cell_type": "code",
   "execution_count": null,
   "id": "471a7672",
   "metadata": {},
   "outputs": [],
   "source": [
    "#!pip install python-docx\n",
    "import docx\n",
    "doc = docx.Document('abc.docx')\n",
    "doc.paragraphs\n",
    "#By using doc.paragraphs"
   ]
  },
  {
   "cell_type": "markdown",
   "id": "dda61b8f",
   "metadata": {},
   "source": [
    "## Q8- What type of object has bold, underline, italic, strike, and outline variables?\n",
    "Ans- A Run object has bold, underline,italic,strike and outline variables."
   ]
  },
  {
   "cell_type": "markdown",
   "id": "2d3b44ac",
   "metadata": {},
   "source": [
    "## Q9- What is the difference between False, True, and None for the bold variable?\n",
    "Ans- Runs can be further styled using text attributes. Each attribute can be set to one of three values:\n",
    "True (the attribute is always enabled, no matter what other styles are applied to the run),\n",
    "False (the attribute is always disabled),\n",
    "None (defaults to whatever the run’s style is set to)\n",
    "\n",
    "True always makes the Run object bolded and False makes it always not bolded, no matter what the style’s bold setting is. None will make the Run object just use the style’s bold setting"
   ]
  },
  {
   "cell_type": "markdown",
   "id": "4b9594fc",
   "metadata": {},
   "source": [
    "## Q10- How do you create a Document object for a new Word document?\n",
    "Ans- By Calling the docx.Document() function."
   ]
  },
  {
   "cell_type": "markdown",
   "id": "968cfb17",
   "metadata": {},
   "source": [
    "## Q11- How do you add a paragraph with the text &#39;Hello, there!&#39; to a Document object stored in a variable named doc?\n",
    "Ans- "
   ]
  },
  {
   "cell_type": "code",
   "execution_count": null,
   "id": "3dd70322",
   "metadata": {},
   "outputs": [],
   "source": [
    "import docx\n",
    "doc = docx.Document()\n",
    "\n",
    "doc.add_paragraph('Hello there!')\n",
    "doc.save('hellothere.docx')"
   ]
  },
  {
   "cell_type": "markdown",
   "id": "e429a0e0",
   "metadata": {},
   "source": [
    "## Q12- What integers represent the levels of headings available in Word documents?\n",
    "Ans- integer from 0 to 4\n",
    "\n",
    "The arguments to add_heading() are a string of the heading text and an integer from 0 to 4. The integer 0 makes the heading the \n",
    "\n",
    "Title style, which is used for the top of the document. Integers 1 to 4 are for various heading levels, with 1 being the main heading and 4 the lowest subheading"
   ]
  }
 ],
 "metadata": {
  "kernelspec": {
   "display_name": "Python 3 (ipykernel)",
   "language": "python",
   "name": "python3"
  },
  "language_info": {
   "codemirror_mode": {
    "name": "ipython",
    "version": 3
   },
   "file_extension": ".py",
   "mimetype": "text/x-python",
   "name": "python",
   "nbconvert_exporter": "python",
   "pygments_lexer": "ipython3",
   "version": "3.9.13"
  }
 },
 "nbformat": 4,
 "nbformat_minor": 5
}
