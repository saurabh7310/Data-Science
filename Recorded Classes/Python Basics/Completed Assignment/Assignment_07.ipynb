{
 "cells": [
  {
   "cell_type": "markdown",
   "id": "d9542aba",
   "metadata": {},
   "source": [
    "# Assignment 07"
   ]
  },
  {
   "cell_type": "markdown",
   "id": "d10f2c8a",
   "metadata": {},
   "source": [
    "## Q1- What is the name of the feature responsible for generating Regex objects?\n",
    "Ans- \n",
    "A RegEx, or Regular Expression, is a sequence of characters that forms a search pattern. RegEx can be used to check if a string contains the specified search pattern."
   ]
  },
  {
   "cell_type": "code",
   "execution_count": 2,
   "id": "079bf136",
   "metadata": {},
   "outputs": [
    {
     "name": "stdout",
     "output_type": "stream",
     "text": [
      "<re.Match object; span=(0, 17), match='The rain in Spain'>\n"
     ]
    }
   ],
   "source": [
    "import re\n",
    "txt = \"The rain in Spain\"\n",
    "x = re.search(\"^The.*Spain$\", txt)\n",
    "print(x)"
   ]
  },
  {
   "cell_type": "markdown",
   "id": "e88ba1f0",
   "metadata": {},
   "source": [
    "## Q2- Why do raw strings often appear in Regex objects?\n",
    "Ans-\n",
    "Raw strings help you get the \"source code\" of a RegEx safely to the RegEx parser, which will then assign meaning to character sequences like \\d , \\w , \\n , etc."
   ]
  },
  {
   "cell_type": "markdown",
   "id": "dbf5e2ee",
   "metadata": {},
   "source": [
    "## Q3- What is the return value of the search() method?\n",
    "Ans-\n",
    "The function searches for some substring in a string and returns a match object if found, else it returns none."
   ]
  },
  {
   "cell_type": "markdown",
   "id": "6cdbaef9",
   "metadata": {},
   "source": [
    "## Q4- From a Match item, how do you get the actual strings that match the pattern?\n",
    "Ans-\n",
    "To match a character in the string expression against a range of characters. Put brackets ( [ ] ) in the pattern string, and inside the brackets put the lowest and highest characters in the range, separated by a hyphen ( – ). Any single character within the range makes a successful match."
   ]
  },
  {
   "cell_type": "markdown",
   "id": "2cd3c439",
   "metadata": {},
   "source": [
    "## Q5- In the regex which created from the r&#39;(\\d\\d\\d)-(\\d\\d\\d-\\d\\d\\d\\d)&#39;, what does group zero cover? Group 2? Group 1?\n",
    "Ans-\n",
    "Group 0 is the entire match, group 1 covers the first set of parentheses, and group 2 covers the second set of parentheses."
   ]
  },
  {
   "cell_type": "markdown",
   "id": "78c91880",
   "metadata": {},
   "source": [
    "## Q6- In standard expression syntax, parentheses and intervals have distinct meanings. How can you tell a regex that you want it to fit real parentheses and periods?\n",
    "Ans-\n",
    "Periods and parentheses can be escaped with a backslash: \\., \\(, and \\)."
   ]
  },
  {
   "cell_type": "markdown",
   "id": "12064df3",
   "metadata": {},
   "source": [
    "## Q7- The findall() method returns a string list or a list of string tuples. What causes it to return one of the two options?\n",
    "Ans-\n",
    "If the regex has no groups, a list of strings is returned. If the regex has groups, a list of tuples of strings is returned."
   ]
  },
  {
   "cell_type": "markdown",
   "id": "ad820a10",
   "metadata": {},
   "source": [
    "## Q8- In standard expressions, what does the | character mean?\n",
    "Ans- The | character signifies matching “either, or” between two groups."
   ]
  },
  {
   "cell_type": "markdown",
   "id": "bf7d5b3e",
   "metadata": {},
   "source": [
    "## Q9- In regular expressions, what does the character stand for?\n",
    "Ans- In regular expressions, which character ? not mentioned."
   ]
  },
  {
   "cell_type": "markdown",
   "id": "21dc16ba",
   "metadata": {},
   "source": [
    "## Q10- In regular expressions, what is the difference between the + and * characters? \n",
    "Ans- The + matches one or more. The * matches zero or more."
   ]
  },
  {
   "cell_type": "markdown",
   "id": "9ad5139d",
   "metadata": {},
   "source": [
    "## Q11- What is the difference between {4} and {4,5} in regular expression?\n",
    "Ans- The {4} matches exactly three instances of the preceding group. The {4,5} matches between four and five instances."
   ]
  },
  {
   "cell_type": "markdown",
   "id": "17f01f64",
   "metadata": {},
   "source": [
    "## Q12- What do you mean by the \\d, \\w, and \\s shorthand character classes signify in regular expressions? \n",
    "Ans- The \\d, \\w, and \\s shorthand character classes match a single digit, word, or space character, respectively."
   ]
  },
  {
   "cell_type": "markdown",
   "id": "c52d07a6",
   "metadata": {},
   "source": [
    "## Q13- What do means by \\D, \\W, and \\S shorthand character classes signify in regular expressions?\n",
    "Ans- The \\D, \\W, and \\S shorthand character classes match a single character that is not a digit, word, or space character, respectively."
   ]
  },
  {
   "cell_type": "markdown",
   "id": "d6dac38a",
   "metadata": {},
   "source": [
    "## Q14- What is the difference between .*? and .*?\n",
    "Ans- The .* performs a greedy match, and the .*? performs a nongreedy match."
   ]
  },
  {
   "cell_type": "markdown",
   "id": "4ef2c09a",
   "metadata": {},
   "source": [
    "## Q15- What is the syntax for matching both numbers and lowercase letters with a character class?\n",
    "Ans- Either [0-9a-z] or [a-z0-9]"
   ]
  },
  {
   "cell_type": "markdown",
   "id": "c7e34ee0",
   "metadata": {},
   "source": [
    "## Q16- What is the procedure for making a normal expression in regax case insensitive?\n",
    "Ans- Passing re.I or re.IGNORECASE as the second argument to re.compile() will make the matching case insensitive."
   ]
  },
  {
   "cell_type": "markdown",
   "id": "37d7a019",
   "metadata": {},
   "source": [
    "## Q17- What does the . character normally match? What does it match if re.DOTALL is passed as 2nd argument in re.compile()?\n",
    "Ans- The . character normally matches any character except the newline character. If re.DOTALL is passed as the second argument to re.compile(), then the dot will also match newline characters."
   ]
  },
  {
   "cell_type": "markdown",
   "id": "98f2129f",
   "metadata": {},
   "source": [
    "## Q18- If numReg = re.compile(r&#39;\\d+&#39;), what will numRegex.sub(&#39;X&#39;, &#39;11 drummers, 10 pipers, five rings, 4 hen&#39;) return?\n",
    "Ans- 'X drummers, X pipers, five rings, X hens'"
   ]
  },
  {
   "cell_type": "markdown",
   "id": "a9c86cb1",
   "metadata": {},
   "source": [
    "## Q19- What does passing re.VERBOSE as the 2nd argument to re.compile() allow to do?\n",
    "Ans- The re.VERBOSE argument allows you to add whitespace and comments to the string passed to re.compile()"
   ]
  },
  {
   "cell_type": "markdown",
   "id": "55ecb53c",
   "metadata": {},
   "source": [
    "## Q20- How would you write a regex that match a number with comma for every three digits? It must match the given following:\n",
    "### &#39;42&#39;\n",
    "### &#39;1,234&#39;\n",
    "### &#39;6,368,745&#39;\n",
    "\n",
    "### but not the following:\n",
    "### &#39;12,34,567&#39; (which has only two digits between the commas)\n",
    "### &#39;1234&#39; (which lacks commas) \n",
    "\n",
    "Ans- e.compile(r'^\\d{1,3}(,{3})*$') will create this regex, but other regex strings can produce a similar regular expression."
   ]
  },
  {
   "cell_type": "markdown",
   "id": "e8fcd125",
   "metadata": {},
   "source": [
    "## Q21- How would you write a regex that matches the full name of someone whose last name is Watanabe? You can assume that the first name that comes before it will always be one word that begins with a capital letter. The regex must match the follow### ing:\n",
    "### &#39;Haruto Watanabe### &#39;\n",
    "### &#39;Alice Watanabe### &#39;\n",
    "### &#39;RoboCop Wat### anabe&#39;\n",
    "### but not the following:\n",
    "### &#39;haruto Watanabe&#39; (where the first name is not capitalized)\n",
    "### &#39;Mr. Watanabe&#39; (where the preceding word has a nonletter character)\n",
    "### &#39;Watanabe&#39; (which has no first name)\n",
    "### &#39;Haruto watanabe&#39; (where Watanabe is not capitalized) \n",
    "\n",
    "Ans- re.compile(r'[A-Z][a-z]*\\sWatanabe')"
   ]
  },
  {
   "cell_type": "markdown",
   "id": "36f42f96",
   "metadata": {},
   "source": [
    "## Q22- How would you write a regex that matches a sentence where the first word is either Alice, Bob, or Carol; the second word is either eats, pets, or throws; the third word is apples, cats, or baseballs; and the sentence ends with a period? This regex should be case-insensitive. It must match the following:\n",
    "### &#39;Alice eats apples.&#39;\n",
    "### &#39;Bob pets cats.&#39;\n",
    "### &#39;Carol throws baseballs.&#39;\n",
    "### &#39;Alice throws Apples.&#39;\n",
    "### &#39;BOB EATS CATS.&#39;\n",
    "### but not the following:\n",
    "### &#39;RoboCop eats apples.&#39;\n",
    "### &#39;ALICE THROWS FOOTBALLS.&#39;\n",
    "### &#39;Carol eats 7 cats.&#39;\n",
    "\n",
    "Ans-  re.compile(r'(Alice|Bob|Carol)\\s(eats|pets|throws)\\ s(apples|cats|baseballs)\\.', re.IGNORECASE)"
   ]
  }
 ],
 "metadata": {
  "kernelspec": {
   "display_name": "Python 3 (ipykernel)",
   "language": "python",
   "name": "python3"
  },
  "language_info": {
   "codemirror_mode": {
    "name": "ipython",
    "version": 3
   },
   "file_extension": ".py",
   "mimetype": "text/x-python",
   "name": "python",
   "nbconvert_exporter": "python",
   "pygments_lexer": "ipython3",
   "version": "3.9.13"
  }
 },
 "nbformat": 4,
 "nbformat_minor": 5
}
