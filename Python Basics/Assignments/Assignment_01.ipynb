{
 "cells": [
  {
   "cell_type": "markdown",
   "id": "91fd7804",
   "metadata": {},
   "source": [
    "# Assignment_01"
   ]
  },
  {
   "cell_type": "markdown",
   "id": "8a1d4add",
   "metadata": {},
   "source": [
    "### Q1- In the below elements which of them are values or an expression? eg:- values can be integer or string and expressions will be mathematical operators."
   ]
  },
  {
   "cell_type": "markdown",
   "id": "863d10f0",
   "metadata": {},
   "source": [
    "Ans - \n",
    "\n",
    "* = Multiply Operator  \n",
    "\n",
    "\"hello\" = String\n",
    "\n",
    "-87.8 = Floating Point Number\n",
    "\n",
    "- = Substraction Operator\n",
    "\n",
    "/ = Division Operator\n",
    "\n",
    "+ = Addition Operator\n",
    "\n",
    "6 = Integer Number"
   ]
  },
  {
   "cell_type": "markdown",
   "id": "803588ae",
   "metadata": {},
   "source": [
    "### Q2 - What is the difference between string and variable?"
   ]
  },
  {
   "cell_type": "markdown",
   "id": "10df1659",
   "metadata": {},
   "source": [
    "Ans - Avariable is a store of information and string is a type of information that can be store in a variable."
   ]
  },
  {
   "cell_type": "markdown",
   "id": "a1a9214c",
   "metadata": {},
   "source": [
    "### Q3 - Describe three different data types."
   ]
  },
  {
   "cell_type": "markdown",
   "id": "d9280d00",
   "metadata": {},
   "source": [
    "Ans - \n",
    "\n",
    "Integer : Integer data type can store whole number of digits. Like (1, 8, 3, 34355, etc).\n",
    "\n",
    "Float : Float data type can store only decimal numbers. Like (1.0, 3.3, 45.01, 4534.0000).\n",
    "    \n",
    "String : String data type can store everything in double quotes. Like (\"Hello\", \"Name\", \"32479847\", \"37.3423\")."
   ]
  },
  {
   "cell_type": "markdown",
   "id": "99f6ddaf",
   "metadata": {},
   "source": [
    "### Q4 - What is an expression made up of? What do all expressions do?"
   ]
  },
  {
   "cell_type": "markdown",
   "id": "3515cf73",
   "metadata": {},
   "source": [
    "Ans - \n",
    "\n",
    "An expression is a combination of operators and operands that is interpreted to produce some other value. In any programming language."
   ]
  },
  {
   "cell_type": "markdown",
   "id": "28b5925f",
   "metadata": {},
   "source": [
    "### Q5 - This assignment statements, like spam = 10. What is the difference between an expression and a statement?"
   ]
  },
  {
   "cell_type": "markdown",
   "id": "75ecbea0",
   "metadata": {},
   "source": [
    "Ans - \n",
    "\n",
    "A statement is a complete line of code that performs some action, while an expression is any section of the code that evaluates to a value."
   ]
  },
  {
   "cell_type": "markdown",
   "id": "3bae5251",
   "metadata": {},
   "source": [
    "### Q6 - After running the following code, what does the variable bacon contain? bacon = 22          bacon + 1"
   ]
  },
  {
   "cell_type": "markdown",
   "id": "3bf683cb",
   "metadata": {},
   "source": [
    "Ans - \n",
    "\n",
    "bacon variable will contain 22, because the value of bacon + 1 is not being assign to any variable."
   ]
  },
  {
   "cell_type": "markdown",
   "id": "e82c7591",
   "metadata": {},
   "source": [
    "### Q7 - What should the values of the following two terms be? \"spam\" + \"spamspam\" and \"spam\" * 3"
   ]
  },
  {
   "cell_type": "markdown",
   "id": "d1140c68",
   "metadata": {},
   "source": [
    "Ans - \n",
    "\n",
    "\"spam\" + \"spamspam\" = 'spamspamspam'  ->> Because its a concatination operation.\n",
    "\n",
    "\"spam\" * 3 = 'spamspamspam'   ->> Simple multilication with string. "
   ]
  },
  {
   "cell_type": "markdown",
   "id": "3c92a873",
   "metadata": {},
   "source": [
    "### Q8 - Why is eggs a valid variable name while 100 is invalid?"
   ]
  },
  {
   "cell_type": "markdown",
   "id": "35b8f71a",
   "metadata": {},
   "source": [
    "Ans - \n",
    "\n",
    "Because there a such rules to declare a variable name in every programming language.\n",
    "Rules to declare variable name :\n",
    "\n",
    "    - A variable name can't start from numeric number.\n",
    "    - A variable name can't contain any special charecter except underscore ( _ ).\n",
    "    - A variable name always will start from underscore or any alphabetical letter.\n",
    "    - A variable name can't be the name of in-built funtion name."
   ]
  },
  {
   "cell_type": "markdown",
   "id": "974b3a09",
   "metadata": {},
   "source": [
    "### Q9 - What three functions can be used to get the integer, floating-point number, or string version of a value?"
   ]
  },
  {
   "cell_type": "markdown",
   "id": "b7c779b4",
   "metadata": {},
   "source": [
    "Ans - \n",
    "\n",
    "int() for integer, float() for floating point number and str() for string, function are used to get integer, floating point number and string version of a value."
   ]
  },
  {
   "cell_type": "markdown",
   "id": "30bf9153",
   "metadata": {},
   "source": [
    "### Q10 - Why does this expression cause an error? How can you fix it? 'I have eaten ' + 99 + ' burritos.'"
   ]
  },
  {
   "cell_type": "markdown",
   "id": "37814112",
   "metadata": {},
   "source": [
    "Ans - \n",
    "\n",
    "In this expression 'I have eaten ' + 99 + ' burritos.' around 99 there are no single quotes. For fix this we have to use '99'.\n",
    "\n",
    "'I have eaten ' + '99' + ' burritos.'\n",
    "\n",
    "Output :: 'I have eaten 99 burritos.'"
   ]
  }
 ],
 "metadata": {
  "kernelspec": {
   "display_name": "Python 3 (ipykernel)",
   "language": "python",
   "name": "python3"
  },
  "language_info": {
   "codemirror_mode": {
    "name": "ipython",
    "version": 3
   },
   "file_extension": ".py",
   "mimetype": "text/x-python",
   "name": "python",
   "nbconvert_exporter": "python",
   "pygments_lexer": "ipython3",
   "version": "3.9.12"
  }
 },
 "nbformat": 4,
 "nbformat_minor": 5
}
